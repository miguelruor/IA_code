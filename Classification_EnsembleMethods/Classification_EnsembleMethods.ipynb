{
  "nbformat": 4,
  "nbformat_minor": 0,
  "metadata": {
    "colab": {
      "name": "Classification_EnsembleMethods.ipynb",
      "provenance": []
    },
    "kernelspec": {
      "display_name": "Python 3",
      "language": "python",
      "name": "python3"
    },
    "language_info": {
      "codemirror_mode": {
        "name": "ipython",
        "version": 3
      },
      "file_extension": ".py",
      "mimetype": "text/x-python",
      "name": "python",
      "nbconvert_exporter": "python",
      "pygments_lexer": "ipython3",
      "version": "3.8.3"
    }
  },
  "cells": [
    {
      "cell_type": "markdown",
      "metadata": {
        "id": "PIUO5KN-9Xl-"
      },
      "source": [
        "## Proyecto: **Conjunto de Modelos (Ensemble methods)**"
      ]
    },
    {
      "cell_type": "markdown",
      "metadata": {
        "id": "xVp20WQCcyJ4"
      },
      "source": [
        "## Importando y preprocesando datasets"
      ]
    },
    {
      "cell_type": "markdown",
      "metadata": {
        "id": "6ybNvcF29XmK"
      },
      "source": [
        "- Diabetes dataset: https://www.kaggle.com/uciml/pima-indians-diabetes-database <br/>\n",
        "- Ionosphere dataset: https://archive.ics.uci.edu/ml/datasets/ionosphere <br/>\n",
        "- Credit Approval dataset: https://archive.ics.uci.edu/ml/datasets/Credit+Approval"
      ]
    },
    {
      "cell_type": "code",
      "metadata": {
        "id": "vyvHKs-G9XmN"
      },
      "source": [
        "import pandas as pd \n",
        "import numpy as np\n",
        "import math\n",
        "from itertools import combinations\n",
        "\n",
        "from sklearn.preprocessing import LabelEncoder\n",
        "from sklearn.model_selection import StratifiedShuffleSplit\n",
        "from sklearn.model_selection import train_test_split\n",
        "from sklearn.preprocessing import MinMaxScaler\n",
        "\n",
        "from sklearn.naive_bayes import GaussianNB\n",
        "from sklearn.tree import DecisionTreeClassifier\n",
        "from sklearn.neural_network import MLPClassifier\n",
        "from sklearn.ensemble import RandomForestClassifier\n",
        "from sklearn.ensemble import BaggingClassifier\n",
        "\n",
        "from sklearn.metrics import confusion_matrix, accuracy_score\n",
        "\n",
        "import matplotlib.pyplot as plt"
      ],
      "execution_count": 1,
      "outputs": []
    },
    {
      "cell_type": "markdown",
      "metadata": {
        "id": "qM1dOeki9XmQ"
      },
      "source": [
        "Importando datasets"
      ]
    },
    {
      "cell_type": "code",
      "metadata": {
        "id": "q4Y9c5u29XmR"
      },
      "source": [
        "# dataset Diabetes\n",
        "X_dia = pd.read_csv(\"diabetes.csv\", header=0)\n",
        "y_dia = X_dia['Outcome'].copy()\n",
        "X_dia.drop('Outcome', axis='columns', inplace = True)\n",
        "X_dia.columns = range(X_dia.shape[1])\n",
        "\n",
        "# dataset Ionosphere\n",
        "X_ion = pd.read_csv(\"ionosphere.data\", header = None)\n",
        "y_ion = X_ion[34].copy()\n",
        "X_ion.drop(34, axis='columns', inplace = True)\n",
        "for i in range(len(y_ion)):\n",
        "    if y_ion.iloc[i] == 'g':\n",
        "        y_ion.iloc[i] = 1\n",
        "    else:\n",
        "        y_ion.iloc[i] = 0\n",
        "\n",
        "# dataset Credit approval\n",
        "X_cre = pd.read_csv(\"crx.data\", header = None)"
      ],
      "execution_count": 2,
      "outputs": []
    },
    {
      "cell_type": "markdown",
      "metadata": {
        "id": "FTU6rtBZ9XmR"
      },
      "source": [
        "Eliminamos patrones con valores NaN (dados por el caracter '?'). Cambiamos las variables categóricas del dataset \"Credit approval\". "
      ]
    },
    {
      "cell_type": "code",
      "metadata": {
        "id": "6Wqd9U-K9XmU"
      },
      "source": [
        "indexEliminate = []\n",
        "for i in range(X_cre.shape[0]):\n",
        "    for j in range(X_cre.shape[1]):\n",
        "        if X_cre[j].iloc[i] == '?':\n",
        "            indexEliminate.append(i)    \n",
        "            break\n",
        "\n",
        "X_cre.drop(indexEliminate, axis = 'index', inplace = True)\n",
        "X_cre.index = np.array(range(X_cre.shape[0]))"
      ],
      "execution_count": 3,
      "outputs": []
    },
    {
      "cell_type": "code",
      "metadata": {
        "id": "niQ9IvnK9XmW"
      },
      "source": [
        "labelEncoder = LabelEncoder()\n",
        "for i in [0,3,4,5,6,8,9,11,12]:\n",
        "    # Para cada columna con datos categoricos, cambiar datos a numeros\n",
        "    attribute = labelEncoder.fit_transform(X_cre[i])\n",
        "    X_cre[i] = attribute\n",
        "\n",
        "y_cre = X_cre[15].copy()\n",
        "X_cre.drop(15, axis='columns', inplace = True)\n",
        "\n",
        "for i in range(len(y_cre)):\n",
        "    if y_cre.iloc[i] == '+':\n",
        "        y_cre.iloc[i] = 1\n",
        "    else:\n",
        "        y_cre.iloc[i] = 0"
      ],
      "execution_count": 4,
      "outputs": []
    },
    {
      "cell_type": "code",
      "metadata": {
        "id": "zBxo9hIt9XmY"
      },
      "source": [
        "y_ion = y_ion.astype(int, copy=False)\n",
        "y_cre = y_cre.astype(int, copy=False)\n",
        "X_cre = X_cre.astype({1:float,13:'int32'}, copy=False)"
      ],
      "execution_count": 5,
      "outputs": []
    },
    {
      "cell_type": "markdown",
      "metadata": {
        "id": "CwT4pI6m9Xmb"
      },
      "source": [
        "División de 5 datasets. Para esto nos apoyamos de la función `StratifiedShuffleSplit` de Scikit-Learn (ver <a href = https://scikit-learn.org/stable/modules/generated/sklearn.model_selection.StratifiedShuffleSplit.html >documentación</a>)"
      ]
    },
    {
      "cell_type": "code",
      "metadata": {
        "id": "Qpb9oIFj9Xmc"
      },
      "source": [
        "sss = StratifiedShuffleSplit(n_splits=5, test_size=0.33, random_state=0)"
      ],
      "execution_count": 6,
      "outputs": []
    },
    {
      "cell_type": "markdown",
      "metadata": {
        "id": "Q-NZnGIa9Xmg"
      },
      "source": [
        "Ejemplo de cómo funciona `StratifiedShuffleSplit`:"
      ]
    },
    {
      "cell_type": "code",
      "metadata": {
        "colab": {
          "base_uri": "https://localhost:8080/"
        },
        "id": "DFA5V8zo9Xmg",
        "outputId": "a96e9de8-871a-4ebc-a7e5-0388b17fa1b7"
      },
      "source": [
        "for train_index, test_index in sss.split(X_cre, y_cre):\n",
        "    print(train_index[:10])\n",
        "    print(test_index[:10])"
      ],
      "execution_count": 7,
      "outputs": [
        {
          "output_type": "stream",
          "text": [
            "[391 372 426 351 318 124 546 284 547 169]\n",
            "[648 250 367 230 498 240 304 275 395 623]\n",
            "[478 500 132 204 479 128 141 199 402 224]\n",
            "[ 38 612 429 274 157  54  99 574 575 422]\n",
            "[532 147 120  55 383 439  15  90 329 192]\n",
            "[ 95 244 380 180 291 306 466 343 381 387]\n",
            "[477 616 631 261 375  56 144 391 466 189]\n",
            "[242 452 204  32 181 291 111 608 486  69]\n",
            "[508 445 474 457 614 266  87 105 172 206]\n",
            "[579 469 440 443 208 335 291 226 179 102]\n"
          ],
          "name": "stdout"
        }
      ]
    },
    {
      "cell_type": "code",
      "metadata": {
        "colab": {
          "base_uri": "https://localhost:8080/"
        },
        "id": "D2_gwJ-j9Xmj",
        "outputId": "6285b68a-2d5c-40f8-8cc6-bbfbd0de73ba"
      },
      "source": [
        "for train_index, test_index in sss.split(X_dia, y_dia):\n",
        "    print(train_index[:10])\n",
        "    print(test_index[:10])"
      ],
      "execution_count": 8,
      "outputs": [
        {
          "output_type": "stream",
          "text": [
            "[250  72 584 348 298 601 410 531 337 480]\n",
            "[235 427 455 153 333 692 107  78 386 720]\n",
            "[408 623 238 582  74  14 121 278 210 682]\n",
            "[467 478 628 451  89 375 273 320 504 669]\n",
            "[223 545 664 703 682 148 623 104 717 247]\n",
            "[621 412 262 639 261 681 356 125 424 180]\n",
            "[624  58 581 468 752 406 219 754 658 319]\n",
            "[751  73 404 328   7 477 184 175 322 707]\n",
            "[141 650 348 444 296 533 301 661 190  30]\n",
            "[167 511 676 171 267 439 660 577 538 432]\n"
          ],
          "name": "stdout"
        }
      ]
    },
    {
      "cell_type": "code",
      "metadata": {
        "id": "wm1n6cpp9Xmk"
      },
      "source": [
        "# Para escalar datos\n",
        "scaler = MinMaxScaler()"
      ],
      "execution_count": 9,
      "outputs": []
    },
    {
      "cell_type": "markdown",
      "metadata": {
        "id": "pqyv-LOTZAol"
      },
      "source": [
        "### Funciones para el ensamble paralelo heterogéneo"
      ]
    },
    {
      "cell_type": "code",
      "metadata": {
        "id": "Qf6UHobJ9Xmw"
      },
      "source": [
        "def fit_ensemble(classifiers, X, y):\r\n",
        "  for i in range(len(classifiers)):\r\n",
        "    classifiers[i].fit(X, y)\r\n",
        "\r\n",
        "def predict_individual(classifiers, X):\r\n",
        "  y_pred = [] # y[i] son las predicciones del clasificador i para X\r\n",
        "  for i in range(len(classifiers)):\r\n",
        "    y_pred.append(classifiers[i].predict(X))\r\n",
        "\r\n",
        "  return y_pred\r\n",
        "\r\n",
        "def defineWeights(classifiers, X_val, y_val):\r\n",
        "  y_pred = predict_individual(classifiers, X_val) # y[i] son las predicciones del clasificador i para X_val\r\n",
        "  ac = [] # ac[i] es el accuracy del clasificador i utilizando el conjunto de validacion X_val\r\n",
        "  for i in range(len(classifiers)):\r\n",
        "    ac.append(accuracy_score(y_val, y_pred[i]))\r\n",
        "\r\n",
        "  ac = np.array(ac)\r\n",
        "  normalizer = ac.sum()\r\n",
        "\r\n",
        "  return ac/normalizer\r\n",
        "\r\n",
        "def predict_ensemble(classifiers, weights, X):\r\n",
        "  y_pred_ind = predict_individual(classifiers, X)\r\n",
        "\r\n",
        "  y_pred = [] # y_pred[i] es la prediccion del patron i\r\n",
        "\r\n",
        "  for i in range(X.shape[0]):\r\n",
        "    y_pred.append(0.0)\r\n",
        "    for j in range(len(classifiers)):\r\n",
        "      y_pred[i] += weights[j]*y_pred_ind[j][i]\r\n",
        "\r\n",
        "    if y_pred[i] >= 0.5:\r\n",
        "      y_pred[i] = 1\r\n",
        "    else:\r\n",
        "      y_pred[i] = 0\r\n",
        "\r\n",
        "  return y_pred"
      ],
      "execution_count": 10,
      "outputs": []
    },
    {
      "cell_type": "markdown",
      "metadata": {
        "id": "tXhlbwDj9Xmk"
      },
      "source": [
        "## Escoge el dataset\r\n",
        "\r\n",
        "Si quiere utilizar el Diabetes dataset, dejar la descomentada la línea con el comentario \r\n",
        "\r\n",
        "```\r\n",
        "# Diabetes dataset\r\n",
        "```\r\n",
        "\r\n",
        " y comentar las otras dos en las siguiente línea en la celda de abajo. Análogamente con los otros datasets"
      ]
    },
    {
      "cell_type": "code",
      "metadata": {
        "id": "G4pIAqpW9Xmk"
      },
      "source": [
        "parameters_dia = [50, (20,20,20), 'relu', 100, 100, 100, 20]\r\n",
        "parameters_ion = [10, (100,), 'relu', 100, 100, 100, 20]\r\n",
        "parameters_cre = [10, (100,), 'relu', 100, 100, 100, 20]\r\n",
        "\r\n",
        "X, y, parameters = X_dia, y_dia, parameters_dia  # Diabetes dataset\r\n",
        "#X, y, parameters = X_ion, y_ion, parameters_ion # Ionosphere dataset\r\n",
        "#X, y, parameters = X_cre, y_cre, parameters_cre # Credit Approval Dataset\r\n",
        "\r\n",
        "maxdepth = parameters[0]\r\n",
        "hidden_layer_sizes = parameters[1]\r\n",
        "activation = parameters[2]\r\n",
        "n_estimators = [parameters[3], parameters[4], parameters[5], parameters[6]]\r\n",
        "\r\n",
        "graphCobertura_ejeX = []\r\n",
        "graphCobertura_ejeY = []"
      ],
      "execution_count": 54,
      "outputs": []
    },
    {
      "cell_type": "markdown",
      "metadata": {
        "id": "BpPYyg2ahxS1"
      },
      "source": [
        "## Modelos individuales\r\n",
        "\r\n",
        "- Gaussian Naive Bayes\r\n",
        "- Decision Tree\r\n",
        "- Artificial Neural Networks\r\n"
      ]
    },
    {
      "cell_type": "code",
      "metadata": {
        "id": "GohOVlDYksGD"
      },
      "source": [
        "# Clasificadores\r\n",
        "classifier = [] \r\n",
        "classifier.append(GaussianNB())\r\n",
        "classifier.append(DecisionTreeClassifier(criterion='entropy', max_depth=maxdepth))\r\n",
        "classifier.append(MLPClassifier(hidden_layer_sizes=hidden_layer_sizes, max_iter=1000, activation=activation, solver='sgd'))"
      ],
      "execution_count": 55,
      "outputs": []
    },
    {
      "cell_type": "code",
      "metadata": {
        "colab": {
          "base_uri": "https://localhost:8080/"
        },
        "id": "rA3_mQvQiP5f",
        "outputId": "d2f625ff-e2d0-46b9-e644-ea7a7c37e972"
      },
      "source": [
        "# confusionMatrix es la matrix de confusion promedio del Random Forest para el conjunto de prueba\r\n",
        "confusionMatrix = np.array([np.zeros((2,2)) for i in range(3)])\r\n",
        "\r\n",
        "for train_index, test_index in sss.split(X, y):\r\n",
        "        \r\n",
        "    # escalamos dataset\r\n",
        "    X_train = scaler.fit_transform(X.iloc[train_index])\r\n",
        "    X_test = scaler.transform(X.iloc[test_index])\r\n",
        "    y_train = y.iloc[train_index]\r\n",
        "    y_test = y.iloc[test_index]\r\n",
        "\r\n",
        "    for i, cl in  enumerate(classifier):\r\n",
        "      cl.fit(X_train, y_train)\r\n",
        "      y_pred = cl.predict(X_test)\r\n",
        "\r\n",
        "      cm = confusion_matrix(y_test, y_pred)\r\n",
        "\r\n",
        "      confusionMatrix[i] += cm\r\n",
        "\r\n",
        "confusionMatrix /= 5.0"
      ],
      "execution_count": 56,
      "outputs": [
        {
          "output_type": "stream",
          "text": [
            "/usr/local/lib/python3.6/dist-packages/sklearn/neural_network/_multilayer_perceptron.py:571: ConvergenceWarning: Stochastic Optimizer: Maximum iterations (1000) reached and the optimization hasn't converged yet.\n",
            "  % self.max_iter, ConvergenceWarning)\n"
          ],
          "name": "stderr"
        }
      ]
    },
    {
      "cell_type": "code",
      "metadata": {
        "colab": {
          "base_uri": "https://localhost:8080/"
        },
        "id": "O1RZ7RpttA_3",
        "outputId": "cd022b33-49ec-4341-be02-8c2d19aadda5"
      },
      "source": [
        "print(\"Naive Bayes\")\r\n",
        "print(confusionMatrix[0])\r\n",
        "print((confusionMatrix[0][0][0]+confusionMatrix[0][1][1])/confusionMatrix[0].sum())\r\n",
        "print(\"Decision Tree\")\r\n",
        "print(confusionMatrix[1])\r\n",
        "print((confusionMatrix[1][0][0]+confusionMatrix[1][1][1])/confusionMatrix[1].sum())\r\n",
        "print(\"Neural Network\")\r\n",
        "print(confusionMatrix[2])\r\n",
        "print((confusionMatrix[2][0][0]+confusionMatrix[2][1][1])/confusionMatrix[2].sum())"
      ],
      "execution_count": 57,
      "outputs": [
        {
          "output_type": "stream",
          "text": [
            "Naive Bayes\n",
            "[[134.4  30.6]\n",
            " [ 36.4  52.6]]\n",
            "0.7362204724409449\n",
            "Decision Tree\n",
            "[[129.   36. ]\n",
            " [ 37.6  51.4]]\n",
            "0.710236220472441\n",
            "Neural Network\n",
            "[[155.6   9.4]\n",
            " [ 69.8  19.2]]\n",
            "0.6881889763779527\n"
          ],
          "name": "stdout"
        }
      ]
    },
    {
      "cell_type": "markdown",
      "metadata": {
        "id": "NyXypzLW9Xmm"
      },
      "source": [
        "## Random Forest"
      ]
    },
    {
      "cell_type": "code",
      "metadata": {
        "id": "-xVEov_Q9Xmn"
      },
      "source": [
        "# confusionMatrix es la matrix de confusion promedio del Random Forest para el conjunto de prueba\n",
        "confusionMatrix = np.zeros((2,2)) \n",
        "\n",
        "for train_index, test_index in sss.split(X, y):\n",
        "        \n",
        "    # escalamos dataset\n",
        "    X_train = scaler.fit_transform(X.iloc[train_index])\n",
        "    X_test = scaler.transform(X.iloc[test_index])\n",
        "    y_train = y.iloc[train_index]\n",
        "    y_test = y.iloc[test_index]\n",
        "\n",
        "    rf = RandomForestClassifier(max_depth=maxdepth, n_estimators= n_estimators[0], oob_score=True, n_jobs= -1)\n",
        "\n",
        "    rf.fit(X_train, y_train)\n",
        "    y_pred = rf.predict(X_test)\n",
        "\n",
        "    cm = confusion_matrix(y_test, y_pred)\n",
        "\n",
        "    confusionMatrix += cm\n",
        "\n",
        "confusionMatrix /= 5.0"
      ],
      "execution_count": 58,
      "outputs": []
    },
    {
      "cell_type": "code",
      "metadata": {
        "colab": {
          "base_uri": "https://localhost:8080/"
        },
        "id": "yzaZM6Bh9Xmo",
        "outputId": "e539abfd-2b97-4cc9-b41b-2ad8ff2bc552"
      },
      "source": [
        "print(confusionMatrix)\r\n",
        "print((confusionMatrix[0][0]+confusionMatrix[1][1])/confusionMatrix.sum())\r\n",
        "graphCobertura_ejeX.append(confusionMatrix[0][1]/(confusionMatrix[0][0]+confusionMatrix[0][1]))\r\n",
        "graphCobertura_ejeY.append(confusionMatrix[1][1]/(confusionMatrix[1][0]+confusionMatrix[1][1]))"
      ],
      "execution_count": 59,
      "outputs": [
        {
          "output_type": "stream",
          "text": [
            "[[138.6  26.4]\n",
            " [ 37.4  51.6]]\n",
            "0.7488188976377952\n"
          ],
          "name": "stdout"
        }
      ]
    },
    {
      "cell_type": "markdown",
      "metadata": {
        "id": "VlD6PmoV9Xmq"
      },
      "source": [
        "## Ensamble paralelo homogéneo con estimadores base:\n",
        "\n",
        "- Gaussian Naive Bayes\n",
        "- Decision Tree\n",
        "- Artificial Neural Networks"
      ]
    },
    {
      "cell_type": "code",
      "metadata": {
        "id": "8jkaXWi89Xmr"
      },
      "source": [
        "# Clasificadores\n",
        "classifier = [] \n",
        "classifier.append(GaussianNB())\n",
        "classifier.append(DecisionTreeClassifier(criterion='entropy', max_depth=maxdepth))\n",
        "classifier.append(MLPClassifier(hidden_layer_sizes=hidden_layer_sizes, max_iter=1000, activation=activation, solver='sgd'))"
      ],
      "execution_count": 60,
      "outputs": []
    },
    {
      "cell_type": "code",
      "metadata": {
        "id": "x2vl24l19Xmt"
      },
      "source": [
        "# confusionMatrix[i] es la matrix de confusion promedio del clasificador i para el conjunto de prueba\n",
        "confusionMatrix = [np.zeros((2,2)) for i in range(3)]\n",
        "\n",
        "for train_index, test_index in sss.split(X, y):\n",
        "        \n",
        "  # escalamos dataset\n",
        "  X_train = scaler.fit_transform(X.iloc[train_index])\n",
        "  X_test = scaler.transform(X.iloc[test_index])\n",
        "  y_train = y.iloc[train_index]\n",
        "  y_test = y.iloc[test_index]\n",
        "\n",
        "  # iteramos sobre los primeros 3 clasificadores\n",
        "  for i in range(3):\n",
        "    bagging = BaggingClassifier(base_estimator = classifier[i], n_estimators = n_estimators[i+1], \n",
        "                                oob_score = True, n_jobs = -1)\n",
        "\n",
        "    bagging.fit(X_train, y_train)\n",
        "    y_pred = bagging.predict(X_test)\n",
        "\n",
        "    cm = confusion_matrix(y_test, y_pred)\n",
        "\n",
        "    confusionMatrix[i] += cm\n",
        "\n",
        "\n",
        "for i in range(3):\n",
        "  confusionMatrix[i] /= 5.0"
      ],
      "execution_count": 61,
      "outputs": []
    },
    {
      "cell_type": "code",
      "metadata": {
        "colab": {
          "base_uri": "https://localhost:8080/"
        },
        "id": "ADRuPB5g9Xmu",
        "outputId": "e2758bfe-8069-45f8-bab3-eeca660b11ca"
      },
      "source": [
        "print(\"Naive Bayes\")\r\n",
        "print(confusionMatrix[0])\r\n",
        "print((confusionMatrix[0][0][0]+confusionMatrix[0][1][1])/confusionMatrix[0].sum())\r\n",
        "print(\"Decision Tree\")\r\n",
        "print(confusionMatrix[1])\r\n",
        "print((confusionMatrix[1][0][0]+confusionMatrix[1][1][1])/confusionMatrix[1].sum())\r\n",
        "print(\"Neural Network\")\r\n",
        "print(confusionMatrix[2])\r\n",
        "print((confusionMatrix[2][0][0]+confusionMatrix[2][1][1])/confusionMatrix[2].sum())\r\n",
        "# Agregar punto del Naive Bayes\r\n",
        "graphCobertura_ejeX.append(confusionMatrix[0][0][1]/(confusionMatrix[0][0][0]+confusionMatrix[0][0][1]))\r\n",
        "graphCobertura_ejeY.append(confusionMatrix[0][1][1]/(confusionMatrix[0][1][0]+confusionMatrix[0][1][1]))\r\n",
        "# Agregar punto del Decision Tree\r\n",
        "graphCobertura_ejeX.append(confusionMatrix[1][0][1]/(confusionMatrix[1][0][0]+confusionMatrix[1][0][1]))\r\n",
        "graphCobertura_ejeY.append(confusionMatrix[1][1][1]/(confusionMatrix[1][1][0]+confusionMatrix[1][1][1]))\r\n",
        "# Agregar punto del Neural Network\r\n",
        "graphCobertura_ejeX.append(confusionMatrix[2][0][1]/(confusionMatrix[2][0][0]+confusionMatrix[2][0][1]))\r\n",
        "graphCobertura_ejeY.append(confusionMatrix[2][1][1]/(confusionMatrix[2][1][0]+confusionMatrix[2][1][1]))"
      ],
      "execution_count": 62,
      "outputs": [
        {
          "output_type": "stream",
          "text": [
            "Naive Bayes\n",
            "[[134.6  30.4]\n",
            " [ 36.2  52.8]]\n",
            "0.7377952755905511\n",
            "Decision Tree\n",
            "[[136.  29.]\n",
            " [ 33.  56.]]\n",
            "0.7559055118110236\n",
            "Neural Network\n",
            "[[148.6  16.4]\n",
            " [ 45.2  43.8]]\n",
            "0.7574803149606298\n"
          ],
          "name": "stdout"
        }
      ]
    },
    {
      "cell_type": "markdown",
      "metadata": {
        "id": "cc8N3b6L9Xmv"
      },
      "source": [
        "## Ensamble paralelo heterogéneo con estimadores base:\n",
        "\n",
        "- Gaussian Naive Bayes\n",
        "- Decision Tree\n",
        "- Artificial Neural Networks"
      ]
    },
    {
      "cell_type": "code",
      "metadata": {
        "id": "KpB49bgOJPtZ"
      },
      "source": [
        "# Clasificadores\r\n",
        "classifier = [] \r\n",
        "classifier.append(GaussianNB())\r\n",
        "classifier.append(DecisionTreeClassifier(criterion='entropy', max_depth=maxdepth))\r\n",
        "classifier.append(MLPClassifier(hidden_layer_sizes=hidden_layer_sizes, max_iter=1000, activation=activation, solver='sgd'))"
      ],
      "execution_count": 63,
      "outputs": []
    },
    {
      "cell_type": "code",
      "metadata": {
        "colab": {
          "base_uri": "https://localhost:8080/"
        },
        "id": "aXK0iIIpJFDu",
        "outputId": "2c5a2b7e-95cd-46b7-d71e-76e336badbb3"
      },
      "source": [
        "# confusionMatrix es la matriz de confusion promedio del ensamble paralelo heterogeneo para el conjunto de prueba\r\n",
        "confusionMatrix = np.zeros((2,2)) \r\n",
        "\r\n",
        "for train_index, test_index in sss.split(X, y):\r\n",
        "\r\n",
        "    X_train, X_val, y_train, y_val = train_test_split(X.iloc[train_index], y.iloc[train_index], test_size = 0.17)\r\n",
        "        \r\n",
        "    # escalamos dataset\r\n",
        "    X_train = scaler.fit_transform(X_train)\r\n",
        "    X_val = scaler.transform(X_val)\r\n",
        "    X_test = scaler.transform(X.iloc[test_index])\r\n",
        "    y_test = y.iloc[test_index]\r\n",
        "\r\n",
        "    fit_ensemble(classifier, X_train, y_train)\r\n",
        "    weights = defineWeights(classifier, X_val, y_val)\r\n",
        "    y_pred = predict_ensemble(classifier, weights, X_test)\r\n",
        "\r\n",
        "    cm = confusion_matrix(y_test, y_pred)\r\n",
        "\r\n",
        "    confusionMatrix += cm\r\n",
        "\r\n",
        "confusionMatrix /= 5.0"
      ],
      "execution_count": 64,
      "outputs": [
        {
          "output_type": "stream",
          "text": [
            "/usr/local/lib/python3.6/dist-packages/sklearn/neural_network/_multilayer_perceptron.py:571: ConvergenceWarning: Stochastic Optimizer: Maximum iterations (1000) reached and the optimization hasn't converged yet.\n",
            "  % self.max_iter, ConvergenceWarning)\n"
          ],
          "name": "stderr"
        }
      ]
    },
    {
      "cell_type": "code",
      "metadata": {
        "colab": {
          "base_uri": "https://localhost:8080/"
        },
        "id": "84EQZGxWLpHI",
        "outputId": "c1688f78-059f-431f-aef7-7f5cb362b24d"
      },
      "source": [
        "print(confusionMatrix)\r\n",
        "print((confusionMatrix[0][0]+confusionMatrix[1][1])/confusionMatrix.sum())\r\n",
        "graphCobertura_ejeX.append(confusionMatrix[0][1]/(confusionMatrix[0][0]+confusionMatrix[0][1]))\r\n",
        "graphCobertura_ejeY.append(confusionMatrix[1][1]/(confusionMatrix[1][0]+confusionMatrix[1][1]))"
      ],
      "execution_count": 65,
      "outputs": [
        {
          "output_type": "stream",
          "text": [
            "[[140.8  24.2]\n",
            " [ 41.6  47.4]]\n",
            "0.7409448818897638\n"
          ],
          "name": "stdout"
        }
      ]
    },
    {
      "cell_type": "markdown",
      "metadata": {
        "id": "Lw8MW_vXba7r"
      },
      "source": [
        "## Gráficas de cobertura"
      ]
    },
    {
      "cell_type": "code",
      "metadata": {
        "id": "27akLo57blEB"
      },
      "source": [
        "namesCL = [\"Naive Bayes\", \"Decision Tree\", \"Neural Network\", \"Random Forest\", \"Ensamble Heterogéneo\"]"
      ],
      "execution_count": 23,
      "outputs": []
    },
    {
      "cell_type": "code",
      "metadata": {
        "id": "xP_Ka8lWFcZC"
      },
      "source": [
        "graphCobertura_dia_ejeX = graphCobertura_ejeX.copy()\r\n",
        "graphCobertura_dia_ejeY = graphCobertura_ejeY.copy()"
      ],
      "execution_count": 66,
      "outputs": []
    },
    {
      "cell_type": "code",
      "metadata": {
        "id": "baKpFQlBFyW3"
      },
      "source": [
        "graphCobertura_ion_ejeX = graphCobertura_ejeX.copy()\r\n",
        "graphCobertura_ion_ejeY = graphCobertura_ejeY.copy()"
      ],
      "execution_count": 24,
      "outputs": []
    },
    {
      "cell_type": "code",
      "metadata": {
        "id": "uKndz941F0SI"
      },
      "source": [
        "graphCobertura_cre_ejeX = graphCobertura_ejeX.copy()\r\n",
        "graphCobertura_cre_ejeY = graphCobertura_ejeY.copy()"
      ],
      "execution_count": 52,
      "outputs": []
    },
    {
      "cell_type": "markdown",
      "metadata": {
        "id": "VDiBn1_v9Xmz"
      },
      "source": [
        "#### Diabetes dataset"
      ]
    },
    {
      "cell_type": "code",
      "metadata": {
        "colab": {
          "base_uri": "https://localhost:8080/",
          "height": 281
        },
        "id": "3rornlC29Xm0",
        "outputId": "fffaa2d7-33f0-44ee-e15b-ae009da8269e"
      },
      "source": [
        "sctr = []\n",
        "for i in range(5):\n",
        "    sctr.append(plt.scatter(graphCobertura_dia_ejeX[i],graphCobertura_dia_ejeY[i], color=np.random.random(3)))\n",
        "plt.axis([-0.01, 1, 0, 1.01])\n",
        "plt.title(\"Diabetes dataset: Gráfica de cobertura\")\n",
        "plt.legend([sctr[i] for i in range(5)], namesCL, loc =\"lower right\") \n",
        "plt.show()"
      ],
      "execution_count": 67,
      "outputs": [
        {
          "output_type": "display_data",
          "data": {
            "image/png": "[encoded data removed]",
            "text/plain": [
              "<Figure size 432x288 with 1 Axes>"
            ]
          },
          "metadata": {
            "tags": [],
            "needs_background": "light"
          }
        }
      ]
    },
    {
      "cell_type": "markdown",
      "metadata": {
        "id": "dDjfSCCC9Xm0"
      },
      "source": [
        "#### Ionosphere dataset"
      ]
    },
    {
      "cell_type": "code",
      "metadata": {
        "colab": {
          "base_uri": "https://localhost:8080/",
          "height": 281
        },
        "id": "iOTi_PqM9Xm1",
        "outputId": "94714fab-133e-4d94-eb07-28e911788c04"
      },
      "source": [
        "sctr = []\n",
        "for i in range(5):\n",
        "    sctr.append(plt.scatter(graphCobertura_ion_ejeX[i],graphCobertura_ion_ejeY[i], color=np.random.random(3)))\n",
        "plt.axis([-0.01, 1, 0, 1.01])\n",
        "plt.title(\"Ionosphere dataset: Gráfica de cobertura\")\n",
        "plt.legend([sctr[i] for i in range(5)], namesCL, loc =\"lower right\") \n",
        "plt.show()"
      ],
      "execution_count": 25,
      "outputs": [
        {
          "output_type": "display_data",
          "data": {
            "image/png": "[encoded data removed]",
            "text/plain": [
              "<Figure size 432x288 with 1 Axes>"
            ]
          },
          "metadata": {
            "tags": [],
            "needs_background": "light"
          }
        }
      ]
    },
    {
      "cell_type": "markdown",
      "metadata": {
        "id": "m6B8UEmE9Xm2"
      },
      "source": [
        "#### Credit approval dataset"
      ]
    },
    {
      "cell_type": "code",
      "metadata": {
        "colab": {
          "base_uri": "https://localhost:8080/",
          "height": 281
        },
        "id": "YznU4QP19Xm2",
        "outputId": "d95a754a-d76c-4176-9b18-8ad0b027c6fa"
      },
      "source": [
        "sctr = []\n",
        "for i in range(5):\n",
        "    sctr.append(plt.scatter(graphCobertura_cre_ejeX[i],graphCobertura_cre_ejeY[i], color=np.random.random(3)))\n",
        "plt.axis([-0.01, 1, 0, 1.01])\n",
        "plt.title(\"Credit approval dataset: Gráfica de cobertura\")\n",
        "plt.legend([sctr[i] for i in range(5)], namesCL, loc =\"lower right\") \n",
        "plt.show()"
      ],
      "execution_count": 53,
      "outputs": [
        {
          "output_type": "display_data",
          "data": {
            "image/png": "[encoded data removed]",
            "text/plain": [
              "<Figure size 432x288 with 1 Axes>"
            ]
          },
          "metadata": {
            "tags": [],
            "needs_background": "light"
          }
        }
      ]
    }
  ]
}