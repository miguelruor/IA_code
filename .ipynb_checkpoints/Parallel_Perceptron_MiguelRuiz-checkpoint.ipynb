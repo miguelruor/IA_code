{
 "cells": [
  {
   "cell_type": "markdown",
   "metadata": {
    "id": "T7Hq8Sdu-674"
   },
   "source": [
    "# **Algoritmo de Clasificación: Perceptrón Paralelo**"
   ]
  },
  {
   "cell_type": "code",
   "execution_count": 1,
   "metadata": {
    "id": "MztdY6GnYNQB"
   },
   "outputs": [],
   "source": [
    "import pandas as pd\n",
    "import numpy as np\n",
    "import math\n",
    "from sklearn.model_selection import train_test_split\n",
    "from sklearn.preprocessing import MinMaxScaler"
   ]
  },
  {
   "cell_type": "markdown",
   "metadata": {
    "id": "2aGQiewR_W02"
   },
   "source": [
    "\n",
    "\n",
    "Extracción de datos\n",
    "\n"
   ]
  },
  {
   "cell_type": "code",
   "execution_count": 82,
   "metadata": {
    "colab": {
     "base_uri": "https://localhost:8080/",
     "height": 459
    },
    "id": "LrIsls8xYkUO",
    "outputId": "c4bac1e1-395d-487b-ebef-281b581dce88"
   },
   "outputs": [
    {
     "name": "stdout",
     "output_type": "stream",
     "text": [
      "        0     1     2     3    4     5   ...    7     8      9     10    11    12\n",
      "0    14.23  1.71  2.43  15.6  127  2.80  ...  0.28  2.29   5.64  1.04  3.92  1065\n",
      "1    13.20  1.78  2.14  11.2  100  2.65  ...  0.26  1.28   4.38  1.05  3.40  1050\n",
      "2    13.16  2.36  2.67  18.6  101  2.80  ...  0.30  2.81   5.68  1.03  3.17  1185\n",
      "3    14.37  1.95  2.50  16.8  113  3.85  ...  0.24  2.18   7.80  0.86  3.45  1480\n",
      "4    13.24  2.59  2.87  21.0  118  2.80  ...  0.39  1.82   4.32  1.04  2.93   735\n",
      "..     ...   ...   ...   ...  ...   ...  ...   ...   ...    ...   ...   ...   ...\n",
      "173  13.71  5.65  2.45  20.5   95  1.68  ...  0.52  1.06   7.70  0.64  1.74   740\n",
      "174  13.40  3.91  2.48  23.0  102  1.80  ...  0.43  1.41   7.30  0.70  1.56   750\n",
      "175  13.27  4.28  2.26  20.0  120  1.59  ...  0.43  1.35  10.20  0.59  1.56   835\n",
      "176  13.17  2.59  2.37  20.0  120  1.65  ...  0.53  1.46   9.30  0.60  1.62   840\n",
      "177  14.13  4.10  2.74  24.5   96  2.05  ...  0.56  1.35   9.20  0.61  1.60   560\n",
      "\n",
      "[178 rows x 13 columns]\n",
      "0      1\n",
      "1      1\n",
      "2      1\n",
      "3      1\n",
      "4      1\n",
      "      ..\n",
      "173    3\n",
      "174    3\n",
      "175    3\n",
      "176    3\n",
      "177    3\n",
      "Name: 0, Length: 178, dtype: int64\n"
     ]
    }
   ],
   "source": [
    "url = \"https://archive.ics.uci.edu/ml/machine-learning-databases/wine/wine.data\"\n",
    "X2 = pd.read_csv(url, header = None)\n",
    "y2 = X2.iloc[:,0]\n",
    "X2.drop(X2.columns[0], axis='columns', inplace=True)\n",
    "X2.columns = range(X2.shape[1])\n",
    "print(X2)\n",
    "print(y2)"
   ]
  },
  {
   "cell_type": "markdown",
   "metadata": {
    "id": "N5bFPiu0d7wc"
   },
   "source": [
    "Debemos quitar los vectores de características que pertenecen a la clase 3. También considerar las clases 1 y 2 como las clases -1 y 1, respectivamente."
   ]
  },
  {
   "cell_type": "code",
   "execution_count": 83,
   "metadata": {
    "colab": {
     "base_uri": "https://localhost:8080/",
     "height": 459
    },
    "id": "eJ5WLGVpd5fj",
    "outputId": "cae6463c-df63-4ef3-8a14-a33741ffe238"
   },
   "outputs": [
    {
     "name": "stdout",
     "output_type": "stream",
     "text": [
      "        0     1     2     3      4     5   ...    7     8     9     10    11      12\n",
      "0    14.23  1.71  2.43  15.6  127.0  2.80  ...  0.28  2.29  5.64  1.04  3.92  1065.0\n",
      "1    13.20  1.78  2.14  11.2  100.0  2.65  ...  0.26  1.28  4.38  1.05  3.40  1050.0\n",
      "2    13.16  2.36  2.67  18.6  101.0  2.80  ...  0.30  2.81  5.68  1.03  3.17  1185.0\n",
      "3    14.37  1.95  2.50  16.8  113.0  3.85  ...  0.24  2.18  7.80  0.86  3.45  1480.0\n",
      "4    13.24  2.59  2.87  21.0  118.0  2.80  ...  0.39  1.82  4.32  1.04  2.93   735.0\n",
      "..     ...   ...   ...   ...    ...   ...  ...   ...   ...   ...   ...   ...     ...\n",
      "125  12.07  2.16  2.17  21.0   85.0  2.60  ...  0.37  1.35  2.76  0.86  3.28   378.0\n",
      "126  12.43  1.53  2.29  21.5   86.0  2.74  ...  0.39  1.77  3.94  0.69  2.84   352.0\n",
      "127  11.79  2.13  2.78  28.5   92.0  2.13  ...  0.58  1.76  3.00  0.97  2.44   466.0\n",
      "128  12.37  1.63  2.30  24.5   88.0  2.22  ...  0.40  1.90  2.12  0.89  2.78   342.0\n",
      "129  12.04  4.30  2.38  22.0   80.0  2.10  ...  0.42  1.35  2.60  0.79  2.57   580.0\n",
      "\n",
      "[130 rows x 13 columns]\n",
      "0     -1\n",
      "1     -1\n",
      "2     -1\n",
      "3     -1\n",
      "4     -1\n",
      "      ..\n",
      "125    1\n",
      "126    1\n",
      "127    1\n",
      "128    1\n",
      "129    1\n",
      "Length: 130, dtype: int64\n"
     ]
    }
   ],
   "source": [
    "X = pd.DataFrame()\n",
    "y = []\n",
    "\n",
    "i=0\n",
    "\n",
    "while y2[i] != 3:\n",
    "  X = X.append(X2.iloc[i])\n",
    "  if y2[i] == 1:\n",
    "    y.append(-1) # a la clase 1 la consideramos como la clase -1\n",
    "  else:\n",
    "    y.append(1) # a la clase 2 la consideramos como la clase 1\n",
    "  i += 1\n",
    "  \n",
    "y = pd.Series(y)\n",
    "\n",
    "print(X)\n",
    "print(y)\n"
   ]
  },
  {
   "cell_type": "markdown",
   "metadata": {
    "id": "R74W5k2t_hBz"
   },
   "source": [
    "Defina la proporción de datos para el conjunto de entrenamiento"
   ]
  },
  {
   "cell_type": "code",
   "execution_count": 84,
   "metadata": {
    "colab": {
     "base_uri": "https://localhost:8080/",
     "height": 34
    },
    "id": "fhP1s9sFYxJi",
    "outputId": "17bcee81-574e-434e-de4f-c37137077b69"
   },
   "outputs": [
    {
     "name": "stdout",
     "output_type": "stream",
     "text": [
      "Proporcion de datos para el conjunto de entrenamiento: p = 0.6\n"
     ]
    }
   ],
   "source": [
    "prop = float(input(\"Proporcion de datos para el conjunto de entrenamiento: p = \")) # proporcion del conjunto de entrenamiento\n",
    "X_train_o, X_test_o, y_train, y_test = train_test_split(X, y, train_size=prop) #, random_state=0)"
   ]
  },
  {
   "cell_type": "markdown",
   "metadata": {
    "id": "6CYKfqc1-Jl3"
   },
   "source": [
    "Debemos escalar los vectores de características y extender los vectores (añadir el componente para el bias)."
   ]
  },
  {
   "cell_type": "code",
   "execution_count": 85,
   "metadata": {
    "id": "sUVI-L_g-Hm_"
   },
   "outputs": [],
   "source": [
    "scaler = MinMaxScaler()\n",
    "X_train = scaler.fit_transform(X_train_o)\n",
    "X_test = scaler.transform(X_test_o)\n",
    "\n",
    "X_train = pd.DataFrame(X_train)\n",
    "X_test = pd.DataFrame(X_test)\n",
    "\n",
    "d = X_train.shape[1] # dimensión del vector de características\n",
    "\n",
    "bias = [1 for i in range(X_train.shape[0])] \n",
    "X_train[d] = pd.Series(bias) # añadir componente de bias al conjunto de entrenamiento\n",
    "\n",
    "bias = [1 for i in range(X_test.shape[0])]\n",
    "X_test[d] = pd.Series(bias) # añadir componente de bias al conjunto de prueba\n",
    "\n",
    "d = d+1 # dimensión del vector de características extendido"
   ]
  },
  {
   "cell_type": "code",
   "execution_count": 86,
   "metadata": {
    "colab": {
     "base_uri": "https://localhost:8080/",
     "height": 1000
    },
    "id": "oLV5WvPjTgVb",
    "outputId": "13487259-f703-4a15-a2fc-b06e02d4a0be"
   },
   "outputs": [
    {
     "name": "stdout",
     "output_type": "stream",
     "text": [
      "          0         1         2         3   ...        10        11        12  13\n",
      "0   0.349462  0.020367  0.317204  0.264151  ...  0.356436  0.274678  0.336662   1\n",
      "1   0.000000  0.126273  0.451613  0.685535  ...  1.000000  0.515021  0.092011   1\n",
      "2   0.604839  0.152749  0.795699  0.308176  ...  0.386139  0.476395  0.429387   1\n",
      "3   0.543011  0.236253  1.000000  0.905660  ...  0.425743  0.656652  0.393723   1\n",
      "4   0.360215  0.150713  0.505376  0.874214  ...  0.188119  0.476395  0.045649   1\n",
      "..       ...       ...       ...       ...  ...       ...       ...       ...  ..\n",
      "73  0.360215  0.057026  0.301075  0.566038  ...  0.415842  0.776824  0.165478   1\n",
      "74  0.857527  0.164969  0.505376  0.358491  ...  0.237624  0.703863  0.493581   1\n",
      "75  0.680108  0.171079  0.591398  0.622642  ...  0.277228  0.583691  0.600571   1\n",
      "76  0.338710  0.105906  0.333333  0.339623  ...  0.524752  0.459227  0.106990   1\n",
      "77  0.712366  0.191446  0.537634  0.415094  ...  0.524752  0.515021  0.507846   1\n",
      "\n",
      "[78 rows x 14 columns]\n",
      "78     1\n",
      "115    1\n",
      "36    -1\n",
      "25    -1\n",
      "128    1\n",
      "      ..\n",
      "67     1\n",
      "56    -1\n",
      "55    -1\n",
      "97     1\n",
      "32    -1\n",
      "Length: 78, dtype: int64\n",
      "          0         1         2         3   ...        10        11        12  13\n",
      "0   0.771505  0.160896  0.408602  0.339623  ...  0.207921  0.712446  0.504280   1\n",
      "1   0.260753  0.126273  0.569892  0.716981  ...  0.346535  0.420601  0.122682   1\n",
      "2   0.825269  0.258656  0.505376  0.465409  ...  0.544554  0.643777  0.878745   1\n",
      "3   0.752688  0.138493  0.677419  0.591195  ...  0.425743  0.386266  0.607703   1\n",
      "4   0.733871  0.130346  0.720430  0.559748  ...  0.544554  0.570815  0.682596   1\n",
      "5   0.376344  0.130346  0.500000  0.685535  ... -0.009901  0.502146  0.052782   1\n",
      "6   0.169355  0.201629  0.301075  0.339623  ...  0.524752  0.201717  0.106990   1\n",
      "7   0.432796  0.095723  0.354839  0.389937  ...  0.277228 -0.034335  0.122682   1\n",
      "8   0.701613  0.450102  0.645161  0.289308  ...  0.257426  0.725322  0.404422   1\n",
      "9   0.446237  0.130346  0.483871  0.635220  ...  0.257426  0.167382  0.154779   1\n",
      "10  0.543011  0.179226  0.397849  0.402516  ...  0.178218  0.721030  0.432953   1\n",
      "11  0.830645  0.120163  0.516129  0.389937  ...  0.465347  0.493562  0.714693   1\n",
      "12  0.360215  0.065173  0.645161  0.471698  ...  0.485149  0.270386  0.285307   1\n",
      "13  0.319892  0.081466  0.311828  0.528302  ...  0.158416  0.579399  0.024251   1\n",
      "14  0.543011  0.604888  0.516129  0.748428  ...  0.138614  0.145923  0.169044   1\n",
      "15  0.725806  0.124236  0.720430  0.748428  ...  0.485149  0.446352  0.718260   1\n",
      "16  0.766129  0.203666  0.661290  0.276730  ...  0.178218  0.811159  0.582739   1\n",
      "17  0.282258  0.089613  0.505376  0.817610  ...  0.366337  0.660944  0.247504   1\n",
      "18  0.338710  0.395112  0.462366  0.465409  ...  0.445545  0.699571  0.008559   1\n",
      "19  0.903226  0.199593  0.586022  0.251572  ...  0.316832  0.819742  0.721826   1\n",
      "20  0.685484  0.156823  0.537634  0.534591  ...  0.386139  0.519313  0.882311   1\n",
      "21  0.736559  0.205703  0.709677  0.408805  ...  0.425743  0.540773  0.782454   1\n",
      "22  0.448925  0.606925  0.559140  0.779874  ...  0.485149  0.626609  0.131954   1\n",
      "23  0.489247  0.144603  0.623656  0.452830  ...  0.386139  0.841202  0.525678   1\n",
      "24  0.112903  0.307536  0.569892  0.591195  ...  0.099010  0.738197  0.247504   1\n",
      "25  0.559140  0.024440  0.182796  0.276730  ...  0.415842  0.648069  0.159772   1\n",
      "26  0.661290  0.156823  0.473118  0.842767  ...  0.277228  0.476395  0.138374   1\n",
      "27  0.260753  0.517312  0.344086  0.528302  ...  0.227723  0.592275  0.203994   1\n",
      "28  0.610215  0.169043  0.419355  0.402516  ...  0.316832  0.472103  0.718260   1\n",
      "29  0.634409  0.179226  0.677419  0.345912  ...  0.217822  0.665236  0.654066   1\n",
      "30  0.607527  0.219959  0.709677  0.389937  ...  0.366337  0.502146  0.707561   1\n",
      "31  0.510753  0.592668  0.693548  0.503145  ...  0.326733  0.793991  0.350927   1\n",
      "32  0.158602  0.224033  0.494624  0.465409  ...  0.455446  0.553648  0.047789   1\n",
      "33  0.282258  0.191446  0.516129  0.496855  ...  0.376238  0.257511  0.144080   1\n",
      "34  0.142473  0.236253  1.005376  1.125786  ...  0.227723  0.866953  0.133381   1\n",
      "35  0.397849  0.171079  0.333333  0.622642  ...  0.336634  0.815451  0.281027   1\n",
      "36  0.338710  0.464358  0.456989  0.465409  ...  0.712871  0.497854  0.091298   1\n",
      "37  0.543011  0.154786  0.639785  0.465409  ...  0.415842  0.360515  0.589872   1\n",
      "38  0.526882  0.158859  0.666667  1.220126  ...  0.603960  0.785408  0.504280   1\n",
      "39  0.814516  0.256619  0.672043  0.440252  ...  0.356436  0.819742  0.725392   1\n",
      "40  0.327957  0.171079  0.408602  0.528302  ...  0.297030  0.643777  0.165478   1\n",
      "41  0.204301  0.252546  0.763441  1.125786  ...  0.267327  0.330472  0.134094   1\n",
      "42  0.196237  0.364562  0.838710  0.591195  ...  0.524752  0.356223  0.234665   1\n",
      "43  0.900538  0.549898  0.494624  0.339623  ...  0.336634  0.759657  0.561341   1\n",
      "44  0.225806  0.696538  0.553763  0.654088  ...  0.049505  0.845494  0.072753   1\n",
      "45  0.543011  0.171079  0.365591  0.113208  ...  0.415842  0.532189  0.621969   1\n",
      "46  0.594086  0.629328  0.500000  0.433962  ...  0.118812  0.570815  0.286733   1\n",
      "47  0.102151 -0.030550  0.612903  0.654088  ...  0.396040  0.274678  0.111270   1\n",
      "48  0.537634  0.002037  0.188172  0.339623  ...  0.485149  0.347639  0.081312   1\n",
      "49  1.021505  0.152749  0.435484  0.213836  ...  0.376238  0.506438  0.547076   1\n",
      "50  0.454301  0.187373  0.451613  0.515723  ...  0.455446  0.630901  0.310984   1\n",
      "51  0.422043  0.091650  0.290323  0.496855  ...  0.336634  0.472103  0.202568   1\n",
      "\n",
      "[52 rows x 14 columns]\n",
      "47    -1\n",
      "91     1\n",
      "10    -1\n",
      "17    -1\n",
      "33    -1\n",
      "126    1\n",
      "75     1\n",
      "61     1\n",
      "19    -1\n",
      "92     1\n",
      "44    -1\n",
      "11    -1\n",
      "65     1\n",
      "108    1\n",
      "83     1\n",
      "30    -1\n",
      "42    -1\n",
      "89     1\n",
      "93     1\n",
      "6     -1\n",
      "31    -1\n",
      "53    -1\n",
      "79     1\n",
      "23    -1\n",
      "120    1\n",
      "66     1\n",
      "72     1\n",
      "119    1\n",
      "27    -1\n",
      "26    -1\n",
      "57    -1\n",
      "21    -1\n",
      "94     1\n",
      "90     1\n",
      "121    1\n",
      "104    1\n",
      "99     1\n",
      "37    -1\n",
      "73     1\n",
      "7     -1\n",
      "106    1\n",
      "127    1\n",
      "112    1\n",
      "46    -1\n",
      "124    1\n",
      "50    -1\n",
      "43    -1\n",
      "113    1\n",
      "76     1\n",
      "8     -1\n",
      "81     1\n",
      "101    1\n",
      "dtype: int64\n"
     ]
    }
   ],
   "source": [
    "print(X_train)\n",
    "print(y_train)\n",
    "print(X_test)\n",
    "print(y_test)"
   ]
  },
  {
   "cell_type": "markdown",
   "metadata": {
    "id": "7HEHa9EUKVz5"
   },
   "source": [
    "### Distancia Minkowski de $x,y$ vectores en $\\mathbb{R}^n$\n",
    "\n"
   ]
  },
  {
   "cell_type": "code",
   "execution_count": 87,
   "metadata": {
    "id": "Nn4CXGTDKSc7"
   },
   "outputs": [],
   "source": [
    "def MinkowskiDistance(x,y, p=2): \n",
    "  dist = 0\n",
    "  n = len(x)\n",
    "\n",
    "  for i in range(0,n):\n",
    "    dist += abs(x[i]-y[i])**p\n",
    "\n",
    "  dist = dist**(1/p)\n",
    "\n",
    "  return dist"
   ]
  },
  {
   "cell_type": "markdown",
   "metadata": {
    "id": "VTMxKs5LShA7"
   },
   "source": [
    "### Clase del perceptrón"
   ]
  },
  {
   "cell_type": "code",
   "execution_count": 88,
   "metadata": {
    "id": "pt4w339iSvqw"
   },
   "outputs": [],
   "source": [
    "class perceptron:\n",
    "  def __init__(self, d):\n",
    "    self.d = d # d es la dimension de los vectores de caracteristicas extendidos\n",
    "    self.alpha = np.random.uniform(-0.5, 0.5, d) # El vector de pesos se inicializa con valores aleatorios en [-0.5, 0.5]\n",
    "\n",
    "  def decision_function(self, z):\n",
    "    # z es el vector de caracteristicas extendido\n",
    "    # funcion de decision f\n",
    "    # f(z) = 1, si (alpha)(z) >= 0 (producto punto de alpha y z), y f(z) = -1 en otro caso \n",
    "\n",
    "    if np.dot(self.alpha, z)  >= 0:\n",
    "      return 1\n",
    "    else:\n",
    "      return -1\n",
    "\n",
    "  def normalize_alpha(self):\n",
    "    # función para normalizar el vector de pesos alpha\n",
    "\n",
    "    norm = MinkowskiDistance(self.alpha, np.zeros(self.d)) # la norma de alpha es la distancia euclidiana de alpha al vector 0\n",
    "\n",
    "    self.alpha = (1/norm)*self.alpha\n",
    "\n"
   ]
  },
  {
   "cell_type": "markdown",
   "metadata": {
    "id": "h1koeMiQOr70"
   },
   "source": [
    "###Clase del perceptrón paralelo"
   ]
  },
  {
   "cell_type": "code",
   "execution_count": 89,
   "metadata": {
    "id": "DaH33JafOqaG"
   },
   "outputs": [],
   "source": [
    "class parallel_perceptron:\n",
    "  def __init__(self, d, n, margin, epsilon, mu):\n",
    "    self.d = d # d es la dimension de los vectores de caracteristicas extendidos\n",
    "    self.n = n # numero de perceptrones en la capa\n",
    "    self.margin = margin # margen\n",
    "    self.epsilon = epsilon # exactitud del algoritmo\n",
    "    self.mu = mu # importancia de un margen claro\n",
    "\n",
    "    self.capa = [perceptron(d) for i in range(n)]\n",
    "\n",
    "  def squash_function(self, z):\n",
    "    # z es el vector de caracteristicas extendido\n",
    "    # funcion s(p) = +- 1 si signo(p) = +-1, donde p = f_1(z)+...+f_n(z) y f_i es la funcion de decision del perceptron i\n",
    "\n",
    "    p = 0\n",
    "\n",
    "    for i in range(self.n):\n",
    "      p+= self.capa[i].decision_function(z)\n",
    "\n",
    "    if p >= 0:\n",
    "      return 1\n",
    "    else:\n",
    "      return -1\n",
    "\n",
    "  def p_deltaRule(self, z, o, t):\n",
    "    # z es el vector de caracteristicas extendido\n",
    "    # o es la clase del vector z\n",
    "    # Regla de actualización de los perceptrones en la época t\n",
    "\n",
    "    eta = 1/(2*(t**(0.5)))\n",
    "\n",
    "    o_h = self.squash_function(z) # prediccion de o\n",
    "\n",
    "    for i in range(n):\n",
    "    \n",
    "      dot_prod = np.dot(self.capa[i].alpha, z)\n",
    "\n",
    "      if o_h > o + self.epsilon and dot_prod >= 0:\n",
    "        result = -z\n",
    "      elif o_h < o-self.epsilon and dot_prod < 0:\n",
    "        result = z\n",
    "      elif o_h <= o+self.epsilon and 0 <= dot_prod < self.margin:\n",
    "        result = self.mu * z\n",
    "      elif o_h >= o-self.epsilon and -self.margin < dot_prod < 0: \n",
    "        result = -self.mu * z\n",
    "      else:\n",
    "        result = 0\n",
    "\n",
    "      self.capa[i].alpha = self.capa[i].alpha + eta*result\n",
    "\n",
    "      self.capa[i].normalize_alpha()\n",
    "\n",
    "  def fit(self, X_train, y_train, num_epochs):\n",
    "    # Función de entrenamiento del perceptrón paralelo usando la regla p-delta\n",
    "    X_train = X_train.to_numpy()\n",
    "    y_train = y_train.to_numpy()\n",
    "\n",
    "    N = X_train.shape[0]\n",
    "\n",
    "    # Por cada época t, entrenamos el perceptrón paralelo con una permutación aleatoria de los datos\n",
    "\n",
    "    for t in range(1,num_epochs+1):\n",
    "      ind = np.random.choice(N, N, replace=False) # Permutación aleatoria de los números 0, 1, ..., N-1\n",
    "\n",
    "      # Regla p-delta para cada elemento del conjunto de entrenamiento\n",
    "\n",
    "      for i in ind:\n",
    "        self.p_deltaRule(X_train[i], y_train[i], t)\n",
    "\n",
    "  def predict(self, X_test):\n",
    "    X_test = X_test.to_numpy()\n",
    "    N = X_test.shape[0]\n",
    "\n",
    "    labels = []\n",
    "\n",
    "    for i in range(N):\n",
    "      labels.append(self.squash_function(X_test[i]))\n",
    "\n",
    "    return pd.Series(labels)\n",
    "\n"
   ]
  },
  {
   "cell_type": "markdown",
   "metadata": {
    "id": "iKc4pQKHB76S"
   },
   "source": [
    "Función que reporta la matriz de confusión $M$, tal que $M[i][j]$ es la cantidad de patrones de la clase $i$ clasificados como clase $j$. También reporta el *accuracy*."
   ]
  },
  {
   "cell_type": "code",
   "execution_count": 90,
   "metadata": {
    "id": "tmj1dltFbh-5"
   },
   "outputs": [],
   "source": [
    "def performance(labels_pred, labels_real, Labels):\n",
    "  # Reporta la matriz de confusion y la exactitud\n",
    "  # labels_pred es el etiquetado hecho por el clasificador, labels_real son las etiquetas reales, y Labels es el conjunto de etiquetas existentes\n",
    "\n",
    "  labels_pred = labels_pred.to_numpy()\n",
    "  labels_real = labels_real.to_numpy()\n",
    "\n",
    "  Labels_dict = {} # diccionario auxiliar para asociar Label[i] con el índice i\n",
    "  totalLabels = len(Labels)\n",
    "\n",
    "  for i in range(totalLabels):\n",
    "    Labels_dict[Labels[i]]=i\n",
    "\n",
    "  M = np.zeros((totalLabels, totalLabels))\n",
    "  n = len(labels_pred)\n",
    "\n",
    "  for i in range(n):\n",
    "    M[Labels_dict[int(labels_real[i])]][Labels_dict[int(labels_pred[i])]] += 1\n",
    "\n",
    "  acc = 0\n",
    "\n",
    "  for i in range(totalLabels):\n",
    "    acc += M[i][i]\n",
    "\n",
    "  acc = acc/n\n",
    "  M = pd.DataFrame(M, columns= Labels, index = Labels)\n",
    "\n",
    "  return M, acc"
   ]
  },
  {
   "cell_type": "markdown",
   "metadata": {
    "id": "3983s6iSkH_9"
   },
   "source": [
    "Parámetros del perceptrón paralelo"
   ]
  },
  {
   "cell_type": "code",
   "execution_count": 91,
   "metadata": {
    "colab": {
     "base_uri": "https://localhost:8080/",
     "height": 102
    },
    "id": "FBUBtloOkN11",
    "outputId": "71a7bbce-c8c1-4551-963b-68bbb9fc9ee7"
   },
   "outputs": [
    {
     "name": "stdout",
     "output_type": "stream",
     "text": [
      "Numero de perceptrones: n = 7\n",
      "Margen (margin) = 0.05\n",
      "Exactitud (epsilon) = 0.05\n",
      "importancia del margen claro (mu) = 1\n",
      "Numero de epocas = 1000\n"
     ]
    }
   ],
   "source": [
    "n = int(input(\"Numero de perceptrones: n = \"))\n",
    "margin = float(input(\"Margen (margin) = \"))\n",
    "epsilon = float(input(\"Exactitud (epsilon) = \"))\n",
    "mu = float(input(\"importancia del margen claro (mu) = \"))\n",
    "num_epochs = int(input(\"Numero de epocas = \"))"
   ]
  },
  {
   "cell_type": "markdown",
   "metadata": {
    "id": "Vb3oJTH5DDLi"
   },
   "source": [
    "Clasificación del conjunto de entrenamiento. Impresión de las etiquetas predichas, matriz de confunsión y exactitud.\n",
    "\n"
   ]
  },
  {
   "cell_type": "code",
   "execution_count": 92,
   "metadata": {
    "id": "yy0vdWP1dVJ8"
   },
   "outputs": [],
   "source": [
    "classifier = parallel_perceptron(d, n, margin, epsilon, mu)\n",
    "classifier.fit(X_train, y_train, num_epochs)\n",
    "labels_train = classifier.predict(X_train)"
   ]
  },
  {
   "cell_type": "code",
   "execution_count": 93,
   "metadata": {
    "colab": {
     "base_uri": "https://localhost:8080/",
     "height": 289
    },
    "id": "vZvmzHUB4A5F",
    "outputId": "e1dcbb77-0008-45b3-e500-b98e1355a22d"
   },
   "outputs": [
    {
     "name": "stdout",
     "output_type": "stream",
     "text": [
      "0     1\n",
      "1     1\n",
      "2    -1\n",
      "3    -1\n",
      "4     1\n",
      "     ..\n",
      "73    1\n",
      "74   -1\n",
      "75   -1\n",
      "76    1\n",
      "77   -1\n",
      "Length: 78, dtype: int64\n",
      "      -1     1\n",
      "-1  36.0   0.0\n",
      " 1   0.0  42.0\n",
      "1.0\n"
     ]
    }
   ],
   "source": [
    "M_train, acc_train = performance(labels_train, y_train, [-1, 1])\n",
    "print(labels_train)\n",
    "print(M_train)\n",
    "print(acc_train)"
   ]
  },
  {
   "cell_type": "markdown",
   "metadata": {
    "id": "qNeG9inBdt9X"
   },
   "source": [
    "Clasificación del conjunto de prueba. Impresión de las etiquetas predichas, matriz de confunsión y exactitud."
   ]
  },
  {
   "cell_type": "code",
   "execution_count": 94,
   "metadata": {
    "id": "P2iTauXgdtwV"
   },
   "outputs": [],
   "source": [
    "labels_test = classifier.predict(X_test)"
   ]
  },
  {
   "cell_type": "code",
   "execution_count": 95,
   "metadata": {
    "colab": {
     "base_uri": "https://localhost:8080/",
     "height": 986
    },
    "id": "QUA_xXEf4M8i",
    "outputId": "db4650f9-8217-49b1-dd4f-97ed4a800847"
   },
   "outputs": [
    {
     "name": "stdout",
     "output_type": "stream",
     "text": [
      "0    -1\n",
      "1     1\n",
      "2    -1\n",
      "3    -1\n",
      "4    -1\n",
      "5     1\n",
      "6     1\n",
      "7     1\n",
      "8    -1\n",
      "9     1\n",
      "10   -1\n",
      "11   -1\n",
      "12    1\n",
      "13    1\n",
      "14    1\n",
      "15   -1\n",
      "16   -1\n",
      "17    1\n",
      "18    1\n",
      "19   -1\n",
      "20   -1\n",
      "21   -1\n",
      "22    1\n",
      "23   -1\n",
      "24    1\n",
      "25    1\n",
      "26    1\n",
      "27    1\n",
      "28   -1\n",
      "29   -1\n",
      "30   -1\n",
      "31   -1\n",
      "32    1\n",
      "33    1\n",
      "34   -1\n",
      "35    1\n",
      "36    1\n",
      "37   -1\n",
      "38    1\n",
      "39   -1\n",
      "40    1\n",
      "41    1\n",
      "42    1\n",
      "43   -1\n",
      "44    1\n",
      "45   -1\n",
      "46   -1\n",
      "47    1\n",
      "48    1\n",
      "49   -1\n",
      "50    1\n",
      "51    1\n",
      "dtype: int64\n",
      "      -1     1\n",
      "-1  23.0   0.0\n",
      " 1   1.0  28.0\n",
      "0.9807692307692307\n"
     ]
    }
   ],
   "source": [
    "M_test, acc_test = performance(labels_test, y_test, [-1,1])\n",
    "print(labels_test)\n",
    "print(M_test)\n",
    "print(acc_test)"
   ]
  }
 ],
 "metadata": {
  "colab": {
   "collapsed_sections": [],
   "name": "Parallel Perceptron",
   "provenance": []
  },
  "kernelspec": {
   "display_name": "Python 3",
   "language": "python",
   "name": "python3"
  },
  "language_info": {
   "codemirror_mode": {
    "name": "ipython",
    "version": 3
   },
   "file_extension": ".py",
   "mimetype": "text/x-python",
   "name": "python",
   "nbconvert_exporter": "python",
   "pygments_lexer": "ipython3",
   "version": "3.8.3"
  }
 },
 "nbformat": 4,
 "nbformat_minor": 4
}
