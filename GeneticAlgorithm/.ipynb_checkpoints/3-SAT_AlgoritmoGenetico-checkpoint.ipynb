{
 "cells": [
  {
   "cell_type": "markdown",
   "metadata": {},
   "source": [
    "## El problema binario 3-SAT utilizando un Algoritmo Genético"
   ]
  },
  {
   "cell_type": "code",
   "execution_count": 1,
   "metadata": {},
   "outputs": [],
   "source": [
    "import pandas as pd \n",
    "import numpy as np\n",
    "import math\n",
    "import matplotlib.pylab as plt"
   ]
  },
  {
   "cell_type": "code",
   "execution_count": 2,
   "metadata": {},
   "outputs": [
    {
     "name": "stdout",
     "output_type": "stream",
     "text": [
      "     0   1   2\n",
      "0    5  -6   2\n",
      "1  -14   4 -15\n",
      "2    4  -2  16\n",
      "3    9  -2   4\n",
      "4   16  -8   6\n",
      "..  ..  ..  ..\n",
      "86 -19   7 -13\n",
      "87   1   3  15\n",
      "88  20  10  -9\n",
      "89  11 -12   1\n",
      "90 -13  -7  10\n",
      "\n",
      "[91 rows x 3 columns]\n",
      "20\n",
      "91\n"
     ]
    }
   ],
   "source": [
    "#### Cargando la instancia\n",
    "\n",
    "X = pd.read_csv(\"uf20-017.cnf\", sep=' ', header = 0)\n",
    "numVariables = int(X.columns[2])\n",
    "numClausulas = int(X.columns[3])\n",
    "X.drop(X.columns[3], axis = 'columns', inplace = True)\n",
    "X.columns = range(X.shape[1])\n",
    "print(X)\n",
    "print(numVariables)\n",
    "print(numClausulas)"
   ]
  },
  {
   "cell_type": "markdown",
   "metadata": {},
   "source": [
    "### Funciones fitness"
   ]
  },
  {
   "cell_type": "markdown",
   "metadata": {},
   "source": [
    "Función de fitness 1: Evaluar expresión booleana dada por X"
   ]
  },
  {
   "cell_type": "code",
   "execution_count": 3,
   "metadata": {},
   "outputs": [],
   "source": [
    "def fitness1(individuo, X, numVariables, numClausulas):\n",
    "    \n",
    "    expression = True\n",
    "    \n",
    "    for i in range(numClausulas): \n",
    "        # Operar las 3 variables de la clausula i con el or\n",
    "        aux = False\n",
    "        \n",
    "        x1 = X[0][i]\n",
    "        x2 = X[1][i]\n",
    "        x3 = X[2][i]\n",
    "        \n",
    "        if x1 < 0:\n",
    "            aux = aux or (not individuo[-x1-1])\n",
    "        else:\n",
    "            aux = aux or individuo[x1-1]\n",
    "            \n",
    "        if x2 < 0:\n",
    "            aux = aux or (not individuo[-x2-1])\n",
    "        else:\n",
    "            aux = aux or individuo[x2-1]\n",
    "            \n",
    "        if x3 < 0:\n",
    "            aux = aux or (not individuo[-x3-1])\n",
    "        else:\n",
    "            aux = aux or individuo[x3-1]\n",
    "            \n",
    "        expression = expression and aux\n",
    "            \n",
    "    return int(expression)"
   ]
  },
  {
   "cell_type": "markdown",
   "metadata": {},
   "source": [
    "Función de fitness 2: Contar el número de \"Trues\" en en las cláusulas"
   ]
  },
  {
   "cell_type": "code",
   "execution_count": 4,
   "metadata": {},
   "outputs": [],
   "source": [
    "def fitness2(individuo, X, numVariables, numClausulas):\n",
    "    \n",
    "    count = 0\n",
    "    \n",
    "    for i in range(numClausulas): \n",
    "        # Operar las 3 variables de la clausula i con el or\n",
    "        aux = False\n",
    "        \n",
    "        x1 = X[0][i]\n",
    "        x2 = X[1][i]\n",
    "        x3 = X[2][i]\n",
    "        \n",
    "        if x1 < 0:\n",
    "            aux = aux or (not individuo[-x1-1])\n",
    "        else:\n",
    "            aux = aux or individuo[x1-1]\n",
    "            \n",
    "        if x2 < 0:\n",
    "            aux = aux or (not individuo[-x2-1])\n",
    "        else:\n",
    "            aux = aux or individuo[x2-1]\n",
    "            \n",
    "        if x3 < 0:\n",
    "            aux = aux or (not individuo[-x3-1])\n",
    "        else:\n",
    "            aux = aux or individuo[x3-1]\n",
    "            \n",
    "        count += aux\n",
    "            \n",
    "    return count"
   ]
  },
  {
   "cell_type": "markdown",
   "metadata": {},
   "source": [
    "### Operador de selección\n",
    "\n",
    "Torneo binario"
   ]
  },
  {
   "cell_type": "code",
   "execution_count": 5,
   "metadata": {},
   "outputs": [],
   "source": [
    "def selectionOperator(X, numVariables, numClausulas, P, N, fitness, mu): \n",
    "    # 2*mu es el numero de torneos binarios, por lo que habra mu ganadores\n",
    "    # regresa los indices de los individuos en P seleccionados\n",
    "    \n",
    "    randomIndex = np.random.choice(N, 2*mu, replace=True)\n",
    "    winners = []\n",
    "        \n",
    "    k=0\n",
    "    while 2*k+1 < 2*mu:\n",
    "        i1 = randomIndex[2*k]\n",
    "        i2 = randomIndex[2*k+1]\n",
    "\n",
    "        i1_fitness = fitness(P[i1], X, numVariables, numClausulas)\n",
    "        i2_fitness = fitness(P[i2], X, numVariables, numClausulas)\n",
    "\n",
    "        if i1_fitness > i2_fitness:\n",
    "            winners.append(i1)\n",
    "        else:\n",
    "            winners.append(i2)\n",
    "        k += 1\n",
    "            \n",
    "    return winners"
   ]
  },
  {
   "cell_type": "markdown",
   "metadata": {},
   "source": [
    "### Operador de cruza\n",
    "Cruza en dos puntos"
   ]
  },
  {
   "cell_type": "code",
   "execution_count": 6,
   "metadata": {},
   "outputs": [],
   "source": [
    "def crossoverOperator(S, numVars, mu):\n",
    "    # S es la poblacion seleccionada de P a traves del operador de seleccion\n",
    "    # mu es el numero de padres a cruzar, el tamaño de S\n",
    "    # La cruza se hace en S mismo para optimizar\n",
    "    \n",
    "    randomIndex = np.random.choice(mu, mu, replace=False)\n",
    "    \n",
    "    i=0\n",
    "    while 2*i+1<mu :\n",
    "        i1 = randomIndex[2*i]\n",
    "        i2 = randomIndex[2*i+1]\n",
    "        \n",
    "        # 2 puntos de crossover\n",
    "        crossPoints = np.random.choice(range(1,numVars-1), 2, replace=False)\n",
    "        crossPoints.sort()\n",
    "        \n",
    "        # Cruza de S[i1] con S[i2]\n",
    "        offspring1 = S[i1]\n",
    "        offspring2 = S[i2]\n",
    "            \n",
    "        for k in range(numVars):\n",
    "            if k>=crossPoints[0] and k<=crossPoints[1]: # intercambio de bits de los individuos entre los puntos de cruza\n",
    "                aux = offspring1[k]\n",
    "                offspring1[k] = offspring2[k]\n",
    "                offspring2[k] = aux\n",
    "        \n",
    "        i += 1"
   ]
  },
  {
   "cell_type": "markdown",
   "metadata": {},
   "source": [
    "### Operador de mutación\n",
    "Mutación uniforme"
   ]
  },
  {
   "cell_type": "code",
   "execution_count": 7,
   "metadata": {},
   "outputs": [],
   "source": [
    "def uniformMutationOperator(C, numVars, p):\n",
    "    # C es el conjunto de individuos obtenidos al aplicar el operador de cruza\n",
    "    # p es la probabilidad de mutacion\n",
    "    # La mutacion dentro de C para optimizar\n",
    "    \n",
    "    for i in range(len(C)):\n",
    "        for j in range(numVars):\n",
    "            if np.random.uniform() <= p:\n",
    "                C[i][j] = not C[i][j]"
   ]
  },
  {
   "cell_type": "markdown",
   "metadata": {},
   "source": [
    "### Operador de reemplazo\n",
    "Elitismo del 10%"
   ]
  },
  {
   "cell_type": "code",
   "execution_count": 8,
   "metadata": {},
   "outputs": [],
   "source": [
    "def reemplazoElitismo(X, numVars, numClausulas, P, C_mut, percent, fitness):\n",
    "    \n",
    "    fit = []\n",
    "    \n",
    "    for i in range(len(P)):\n",
    "        pair = (fitness(P[i], X, numVars, numClausulas), i)\n",
    "        fit.append(pair)\n",
    "    \n",
    "    fit.sort(reverse=True)\n",
    "    print(fit)\n",
    "    elite = fit[:int(len(P)*percent)]\n",
    "    print('Fitness del mejor de P: ' + str(elite[0][0]))\n",
    "    R = []\n",
    "    \n",
    "    for i in range(len(elite)):\n",
    "        R.append(P[elite[i][1]][:])\n",
    "    for i in range(len(C_mut)):\n",
    "        R.append(C_mut[i][:])\n",
    "    \n",
    "    return R"
   ]
  },
  {
   "cell_type": "markdown",
   "metadata": {},
   "source": [
    "### Algoritmo genético\n",
    "\n",
    "Tiene como argumentos a un dataframe con la información de la instancia del problema en formado cnf, el número de variables booleanas (numVariables), el número de cláusulas (numClausulas), y la función fitness."
   ]
  },
  {
   "cell_type": "code",
   "execution_count": 9,
   "metadata": {},
   "outputs": [],
   "source": [
    "def solveSAT(X, numVariables, numClausulas, fitness, N=100, elite_percent=0.1, maxIter=100):\n",
    "    \n",
    "    mu = int((1-elite_percent)*N) # complemento del porcentaje de la elite\n",
    "    prob_mutation = 1.0/numVariables\n",
    "    \n",
    "    # Poblacion inicial de tamaño N con distribucion uniforme\n",
    "    P = []\n",
    "    for i in range(N):\n",
    "        P.append(list(np.random.choice([True, False], numVariables, replace=True)))\n",
    "    \n",
    "    best_fitness = []\n",
    "        \n",
    "    for t in range(maxIter):\n",
    "        # Evaluacion de P\n",
    "        fit = []\n",
    "    \n",
    "        for i in range(N):\n",
    "            pair = (fitness(P[i], X, numVariables, numClausulas), i)\n",
    "            fit.append(pair)\n",
    "\n",
    "        fit.sort(reverse=True)\n",
    "        elite = fit[:int(len(P)*elite_percent)]\n",
    "        print('Generacion: ' + str(t) + ' - Mejor fitness de P: ' + str(elite[0][0]) + \" - Indice \" + str(elite[0][1]))\n",
    "        \n",
    "        best_fitness.append(elite[0][0])\n",
    "        \n",
    "        # Seleccion por torneo binario\n",
    "        winners = selectionOperator(X, numVariables, numClausulas, P, N, fitness, mu)\n",
    "\n",
    "        P2 = []\n",
    "        for i in range(len(winners)):\n",
    "            P2.append(P[winners[i]][:])\n",
    "\n",
    "        # Cruza\n",
    "        crossoverOperator(P2, numVariables, mu)\n",
    "\n",
    "        # Mutation\n",
    "        uniformMutationOperator(P2, numVariables, prob_mutation)\n",
    "\n",
    "        # Reemplazo \n",
    "        for i in range(len(elite)):\n",
    "            P2.append(P[elite[i][1]][:])\n",
    "            \n",
    "        P = P2\n",
    "        \n",
    "    # Obtener el maximo fitness de la generacion maxIter\n",
    "        \n",
    "    maxFit = 0\n",
    "    maxIndex = 0\n",
    "\n",
    "    for i in range(N):\n",
    "        aux = fitness(P[i],  X, numVariables, numClausulas)\n",
    "        if aux > maxFit:\n",
    "            maxFit = aux\n",
    "            maxIndex = i\n",
    "    best_fitness.append(maxFit)\n",
    "    \n",
    "    print('Generacion: ' + str(maxIter) + ' - Mejor fitness de P: ' + str(maxFit) + \" - Indice \" + str(maxIndex))\n",
    "        \n",
    "    return P[maxIndex], best_fitness"
   ]
  },
  {
   "cell_type": "markdown",
   "metadata": {},
   "source": [
    "### Aplicación del algoritmo genético a la instancia del problema 3-SAT"
   ]
  },
  {
   "cell_type": "code",
   "execution_count": 10,
   "metadata": {},
   "outputs": [],
   "source": [
    "maxIter = 100"
   ]
  },
  {
   "cell_type": "code",
   "execution_count": 11,
   "metadata": {},
   "outputs": [
    {
     "name": "stdout",
     "output_type": "stream",
     "text": [
      "Generacion: 0 - Mejor fitness de P: 0 - Indice 99\n",
      "Generacion: 1 - Mejor fitness de P: 0 - Indice 99\n",
      "Generacion: 2 - Mejor fitness de P: 0 - Indice 99\n",
      "Generacion: 3 - Mejor fitness de P: 0 - Indice 99\n",
      "Generacion: 4 - Mejor fitness de P: 0 - Indice 99\n",
      "Generacion: 5 - Mejor fitness de P: 0 - Indice 99\n",
      "Generacion: 6 - Mejor fitness de P: 0 - Indice 99\n",
      "Generacion: 7 - Mejor fitness de P: 0 - Indice 99\n",
      "Generacion: 8 - Mejor fitness de P: 0 - Indice 99\n",
      "Generacion: 9 - Mejor fitness de P: 0 - Indice 99\n",
      "Generacion: 10 - Mejor fitness de P: 0 - Indice 99\n",
      "Generacion: 11 - Mejor fitness de P: 0 - Indice 99\n",
      "Generacion: 12 - Mejor fitness de P: 0 - Indice 99\n",
      "Generacion: 13 - Mejor fitness de P: 0 - Indice 99\n",
      "Generacion: 14 - Mejor fitness de P: 0 - Indice 99\n",
      "Generacion: 15 - Mejor fitness de P: 0 - Indice 99\n",
      "Generacion: 16 - Mejor fitness de P: 0 - Indice 99\n",
      "Generacion: 17 - Mejor fitness de P: 0 - Indice 99\n",
      "Generacion: 18 - Mejor fitness de P: 0 - Indice 99\n",
      "Generacion: 19 - Mejor fitness de P: 0 - Indice 99\n",
      "Generacion: 20 - Mejor fitness de P: 0 - Indice 99\n",
      "Generacion: 21 - Mejor fitness de P: 0 - Indice 99\n",
      "Generacion: 22 - Mejor fitness de P: 0 - Indice 99\n",
      "Generacion: 23 - Mejor fitness de P: 0 - Indice 99\n",
      "Generacion: 24 - Mejor fitness de P: 0 - Indice 99\n",
      "Generacion: 25 - Mejor fitness de P: 0 - Indice 99\n",
      "Generacion: 26 - Mejor fitness de P: 0 - Indice 99\n",
      "Generacion: 27 - Mejor fitness de P: 0 - Indice 99\n",
      "Generacion: 28 - Mejor fitness de P: 0 - Indice 99\n",
      "Generacion: 29 - Mejor fitness de P: 0 - Indice 99\n",
      "Generacion: 30 - Mejor fitness de P: 0 - Indice 99\n",
      "Generacion: 31 - Mejor fitness de P: 0 - Indice 99\n",
      "Generacion: 32 - Mejor fitness de P: 0 - Indice 99\n",
      "Generacion: 33 - Mejor fitness de P: 0 - Indice 99\n",
      "Generacion: 34 - Mejor fitness de P: 0 - Indice 99\n",
      "Generacion: 35 - Mejor fitness de P: 0 - Indice 99\n",
      "Generacion: 36 - Mejor fitness de P: 0 - Indice 99\n",
      "Generacion: 37 - Mejor fitness de P: 0 - Indice 99\n",
      "Generacion: 38 - Mejor fitness de P: 0 - Indice 99\n",
      "Generacion: 39 - Mejor fitness de P: 0 - Indice 99\n",
      "Generacion: 40 - Mejor fitness de P: 0 - Indice 99\n",
      "Generacion: 41 - Mejor fitness de P: 0 - Indice 99\n",
      "Generacion: 42 - Mejor fitness de P: 0 - Indice 99\n",
      "Generacion: 43 - Mejor fitness de P: 0 - Indice 99\n",
      "Generacion: 44 - Mejor fitness de P: 0 - Indice 99\n",
      "Generacion: 45 - Mejor fitness de P: 0 - Indice 99\n",
      "Generacion: 46 - Mejor fitness de P: 0 - Indice 99\n",
      "Generacion: 47 - Mejor fitness de P: 0 - Indice 99\n",
      "Generacion: 48 - Mejor fitness de P: 0 - Indice 99\n",
      "Generacion: 49 - Mejor fitness de P: 0 - Indice 99\n",
      "Generacion: 50 - Mejor fitness de P: 0 - Indice 99\n",
      "Generacion: 51 - Mejor fitness de P: 0 - Indice 99\n",
      "Generacion: 52 - Mejor fitness de P: 0 - Indice 99\n",
      "Generacion: 53 - Mejor fitness de P: 0 - Indice 99\n",
      "Generacion: 54 - Mejor fitness de P: 0 - Indice 99\n",
      "Generacion: 55 - Mejor fitness de P: 0 - Indice 99\n",
      "Generacion: 56 - Mejor fitness de P: 0 - Indice 99\n",
      "Generacion: 57 - Mejor fitness de P: 0 - Indice 99\n",
      "Generacion: 58 - Mejor fitness de P: 0 - Indice 99\n",
      "Generacion: 59 - Mejor fitness de P: 0 - Indice 99\n",
      "Generacion: 60 - Mejor fitness de P: 0 - Indice 99\n",
      "Generacion: 61 - Mejor fitness de P: 0 - Indice 99\n",
      "Generacion: 62 - Mejor fitness de P: 0 - Indice 99\n",
      "Generacion: 63 - Mejor fitness de P: 0 - Indice 99\n",
      "Generacion: 64 - Mejor fitness de P: 0 - Indice 99\n",
      "Generacion: 65 - Mejor fitness de P: 0 - Indice 99\n",
      "Generacion: 66 - Mejor fitness de P: 0 - Indice 99\n",
      "Generacion: 67 - Mejor fitness de P: 0 - Indice 99\n",
      "Generacion: 68 - Mejor fitness de P: 0 - Indice 99\n",
      "Generacion: 69 - Mejor fitness de P: 0 - Indice 99\n",
      "Generacion: 70 - Mejor fitness de P: 0 - Indice 99\n",
      "Generacion: 71 - Mejor fitness de P: 0 - Indice 99\n",
      "Generacion: 72 - Mejor fitness de P: 0 - Indice 99\n",
      "Generacion: 73 - Mejor fitness de P: 0 - Indice 99\n",
      "Generacion: 74 - Mejor fitness de P: 0 - Indice 99\n",
      "Generacion: 75 - Mejor fitness de P: 0 - Indice 99\n",
      "Generacion: 76 - Mejor fitness de P: 0 - Indice 99\n",
      "Generacion: 77 - Mejor fitness de P: 0 - Indice 99\n",
      "Generacion: 78 - Mejor fitness de P: 0 - Indice 99\n",
      "Generacion: 79 - Mejor fitness de P: 0 - Indice 99\n",
      "Generacion: 80 - Mejor fitness de P: 0 - Indice 99\n",
      "Generacion: 81 - Mejor fitness de P: 0 - Indice 99\n",
      "Generacion: 82 - Mejor fitness de P: 0 - Indice 99\n",
      "Generacion: 83 - Mejor fitness de P: 0 - Indice 99\n",
      "Generacion: 84 - Mejor fitness de P: 0 - Indice 99\n",
      "Generacion: 85 - Mejor fitness de P: 0 - Indice 99\n",
      "Generacion: 86 - Mejor fitness de P: 0 - Indice 99\n",
      "Generacion: 87 - Mejor fitness de P: 0 - Indice 99\n",
      "Generacion: 88 - Mejor fitness de P: 0 - Indice 99\n",
      "Generacion: 89 - Mejor fitness de P: 0 - Indice 99\n",
      "Generacion: 90 - Mejor fitness de P: 0 - Indice 99\n",
      "Generacion: 91 - Mejor fitness de P: 0 - Indice 99\n",
      "Generacion: 92 - Mejor fitness de P: 0 - Indice 99\n",
      "Generacion: 93 - Mejor fitness de P: 0 - Indice 99\n",
      "Generacion: 94 - Mejor fitness de P: 0 - Indice 99\n",
      "Generacion: 95 - Mejor fitness de P: 0 - Indice 99\n",
      "Generacion: 96 - Mejor fitness de P: 0 - Indice 99\n",
      "Generacion: 97 - Mejor fitness de P: 0 - Indice 99\n",
      "Generacion: 98 - Mejor fitness de P: 0 - Indice 99\n",
      "Generacion: 99 - Mejor fitness de P: 0 - Indice 99\n",
      "Generacion: 100 - Mejor fitness de P: 0 - Indice 0\n"
     ]
    },
    {
     "data": {
      "text/plain": [
       "[False,\n",
       " False,\n",
       " True,\n",
       " True,\n",
       " False,\n",
       " True,\n",
       " False,\n",
       " False,\n",
       " False,\n",
       " True,\n",
       " False,\n",
       " True,\n",
       " False,\n",
       " True,\n",
       " True,\n",
       " False,\n",
       " False,\n",
       " False,\n",
       " True,\n",
       " True]"
      ]
     },
     "execution_count": 11,
     "metadata": {},
     "output_type": "execute_result"
    }
   ],
   "source": [
    "sol1, best_fitness1 = solveSAT(X, numVariables, numClausulas, fitness1, maxIter = maxIter)\n",
    "sol1"
   ]
  },
  {
   "cell_type": "code",
   "execution_count": 12,
   "metadata": {},
   "outputs": [
    {
     "data": {
      "text/plain": [
       "0"
      ]
     },
     "execution_count": 12,
     "metadata": {},
     "output_type": "execute_result"
    }
   ],
   "source": [
    "fitness1(sol1, X, numVariables, numClausulas)"
   ]
  },
  {
   "cell_type": "code",
   "execution_count": 13,
   "metadata": {},
   "outputs": [
    {
     "data": {
      "image/png": "[encoded data removed]",
      "text/plain": [
       "<Figure size 432x288 with 1 Axes>"
      ]
     },
     "metadata": {
      "needs_background": "light"
     },
     "output_type": "display_data"
    }
   ],
   "source": [
    "plt.plot(range(maxIter+1), best_fitness1)\n",
    "plt.show()"
   ]
  },
  {
   "cell_type": "code",
   "execution_count": 14,
   "metadata": {},
   "outputs": [
    {
     "name": "stdout",
     "output_type": "stream",
     "text": [
      "Generacion: 0 - Mejor fitness de P: 87 - Indice 56\n",
      "Generacion: 1 - Mejor fitness de P: 87 - Indice 91\n",
      "Generacion: 2 - Mejor fitness de P: 88 - Indice 31\n",
      "Generacion: 3 - Mejor fitness de P: 89 - Indice 14\n",
      "Generacion: 4 - Mejor fitness de P: 90 - Indice 57\n",
      "Generacion: 5 - Mejor fitness de P: 90 - Indice 90\n",
      "Generacion: 6 - Mejor fitness de P: 90 - Indice 90\n",
      "Generacion: 7 - Mejor fitness de P: 90 - Indice 90\n",
      "Generacion: 8 - Mejor fitness de P: 90 - Indice 93\n",
      "Generacion: 9 - Mejor fitness de P: 90 - Indice 95\n",
      "Generacion: 10 - Mejor fitness de P: 90 - Indice 96\n",
      "Generacion: 11 - Mejor fitness de P: 90 - Indice 97\n",
      "Generacion: 12 - Mejor fitness de P: 90 - Indice 99\n",
      "Generacion: 13 - Mejor fitness de P: 90 - Indice 99\n",
      "Generacion: 14 - Mejor fitness de P: 90 - Indice 99\n",
      "Generacion: 15 - Mejor fitness de P: 91 - Indice 44\n",
      "Generacion: 16 - Mejor fitness de P: 91 - Indice 90\n",
      "Generacion: 17 - Mejor fitness de P: 91 - Indice 92\n",
      "Generacion: 18 - Mejor fitness de P: 91 - Indice 92\n",
      "Generacion: 19 - Mejor fitness de P: 91 - Indice 93\n",
      "Generacion: 20 - Mejor fitness de P: 91 - Indice 93\n",
      "Generacion: 21 - Mejor fitness de P: 91 - Indice 93\n",
      "Generacion: 22 - Mejor fitness de P: 91 - Indice 95\n",
      "Generacion: 23 - Mejor fitness de P: 91 - Indice 96\n",
      "Generacion: 24 - Mejor fitness de P: 91 - Indice 97\n",
      "Generacion: 25 - Mejor fitness de P: 91 - Indice 99\n",
      "Generacion: 26 - Mejor fitness de P: 91 - Indice 99\n",
      "Generacion: 27 - Mejor fitness de P: 91 - Indice 99\n",
      "Generacion: 28 - Mejor fitness de P: 91 - Indice 99\n",
      "Generacion: 29 - Mejor fitness de P: 91 - Indice 99\n",
      "Generacion: 30 - Mejor fitness de P: 91 - Indice 99\n",
      "Generacion: 31 - Mejor fitness de P: 91 - Indice 99\n",
      "Generacion: 32 - Mejor fitness de P: 91 - Indice 99\n",
      "Generacion: 33 - Mejor fitness de P: 91 - Indice 99\n",
      "Generacion: 34 - Mejor fitness de P: 91 - Indice 99\n",
      "Generacion: 35 - Mejor fitness de P: 91 - Indice 99\n",
      "Generacion: 36 - Mejor fitness de P: 91 - Indice 99\n",
      "Generacion: 37 - Mejor fitness de P: 91 - Indice 99\n",
      "Generacion: 38 - Mejor fitness de P: 91 - Indice 99\n",
      "Generacion: 39 - Mejor fitness de P: 91 - Indice 99\n",
      "Generacion: 40 - Mejor fitness de P: 91 - Indice 99\n",
      "Generacion: 41 - Mejor fitness de P: 91 - Indice 99\n",
      "Generacion: 42 - Mejor fitness de P: 91 - Indice 99\n",
      "Generacion: 43 - Mejor fitness de P: 91 - Indice 99\n",
      "Generacion: 44 - Mejor fitness de P: 91 - Indice 99\n",
      "Generacion: 45 - Mejor fitness de P: 91 - Indice 99\n",
      "Generacion: 46 - Mejor fitness de P: 91 - Indice 99\n",
      "Generacion: 47 - Mejor fitness de P: 91 - Indice 99\n",
      "Generacion: 48 - Mejor fitness de P: 91 - Indice 99\n",
      "Generacion: 49 - Mejor fitness de P: 91 - Indice 99\n",
      "Generacion: 50 - Mejor fitness de P: 91 - Indice 99\n",
      "Generacion: 51 - Mejor fitness de P: 91 - Indice 99\n",
      "Generacion: 52 - Mejor fitness de P: 91 - Indice 99\n",
      "Generacion: 53 - Mejor fitness de P: 91 - Indice 99\n",
      "Generacion: 54 - Mejor fitness de P: 91 - Indice 99\n",
      "Generacion: 55 - Mejor fitness de P: 91 - Indice 99\n",
      "Generacion: 56 - Mejor fitness de P: 91 - Indice 99\n",
      "Generacion: 57 - Mejor fitness de P: 91 - Indice 99\n",
      "Generacion: 58 - Mejor fitness de P: 91 - Indice 99\n",
      "Generacion: 59 - Mejor fitness de P: 91 - Indice 99\n",
      "Generacion: 60 - Mejor fitness de P: 91 - Indice 99\n",
      "Generacion: 61 - Mejor fitness de P: 91 - Indice 99\n",
      "Generacion: 62 - Mejor fitness de P: 91 - Indice 99\n",
      "Generacion: 63 - Mejor fitness de P: 91 - Indice 99\n",
      "Generacion: 64 - Mejor fitness de P: 91 - Indice 99\n",
      "Generacion: 65 - Mejor fitness de P: 91 - Indice 99\n",
      "Generacion: 66 - Mejor fitness de P: 91 - Indice 99\n",
      "Generacion: 67 - Mejor fitness de P: 91 - Indice 99\n",
      "Generacion: 68 - Mejor fitness de P: 91 - Indice 99\n",
      "Generacion: 69 - Mejor fitness de P: 91 - Indice 99\n",
      "Generacion: 70 - Mejor fitness de P: 91 - Indice 99\n",
      "Generacion: 71 - Mejor fitness de P: 91 - Indice 99\n",
      "Generacion: 72 - Mejor fitness de P: 91 - Indice 99\n",
      "Generacion: 73 - Mejor fitness de P: 91 - Indice 99\n",
      "Generacion: 74 - Mejor fitness de P: 91 - Indice 99\n",
      "Generacion: 75 - Mejor fitness de P: 91 - Indice 99\n",
      "Generacion: 76 - Mejor fitness de P: 91 - Indice 99\n",
      "Generacion: 77 - Mejor fitness de P: 91 - Indice 99\n",
      "Generacion: 78 - Mejor fitness de P: 91 - Indice 99\n",
      "Generacion: 79 - Mejor fitness de P: 91 - Indice 99\n",
      "Generacion: 80 - Mejor fitness de P: 91 - Indice 99\n",
      "Generacion: 81 - Mejor fitness de P: 91 - Indice 99\n",
      "Generacion: 82 - Mejor fitness de P: 91 - Indice 99\n",
      "Generacion: 83 - Mejor fitness de P: 91 - Indice 99\n",
      "Generacion: 84 - Mejor fitness de P: 91 - Indice 99\n",
      "Generacion: 85 - Mejor fitness de P: 91 - Indice 99\n",
      "Generacion: 86 - Mejor fitness de P: 91 - Indice 99\n",
      "Generacion: 87 - Mejor fitness de P: 91 - Indice 99\n",
      "Generacion: 88 - Mejor fitness de P: 91 - Indice 99\n",
      "Generacion: 89 - Mejor fitness de P: 91 - Indice 99\n",
      "Generacion: 90 - Mejor fitness de P: 91 - Indice 99\n",
      "Generacion: 91 - Mejor fitness de P: 91 - Indice 99\n",
      "Generacion: 92 - Mejor fitness de P: 91 - Indice 99\n",
      "Generacion: 93 - Mejor fitness de P: 91 - Indice 99\n",
      "Generacion: 94 - Mejor fitness de P: 91 - Indice 99\n",
      "Generacion: 95 - Mejor fitness de P: 91 - Indice 99\n",
      "Generacion: 96 - Mejor fitness de P: 91 - Indice 99\n",
      "Generacion: 97 - Mejor fitness de P: 91 - Indice 99\n",
      "Generacion: 98 - Mejor fitness de P: 91 - Indice 99\n",
      "Generacion: 99 - Mejor fitness de P: 91 - Indice 99\n",
      "Generacion: 100 - Mejor fitness de P: 91 - Indice 4\n"
     ]
    },
    {
     "data": {
      "text/plain": [
       "[True,\n",
       " False,\n",
       " True,\n",
       " True,\n",
       " False,\n",
       " False,\n",
       " False,\n",
       " True,\n",
       " True,\n",
       " True,\n",
       " True,\n",
       " True,\n",
       " False,\n",
       " False,\n",
       " True,\n",
       " True,\n",
       " True,\n",
       " True,\n",
       " True,\n",
       " True]"
      ]
     },
     "execution_count": 14,
     "metadata": {},
     "output_type": "execute_result"
    }
   ],
   "source": [
    "sol2, best_fitness2 = solveSAT(X, numVariables, numClausulas, fitness2)\n",
    "sol2"
   ]
  },
  {
   "cell_type": "code",
   "execution_count": 15,
   "metadata": {},
   "outputs": [
    {
     "data": {
      "text/plain": [
       "91"
      ]
     },
     "execution_count": 15,
     "metadata": {},
     "output_type": "execute_result"
    }
   ],
   "source": [
    "fitness2(sol2, X, numVariables, numClausulas)"
   ]
  },
  {
   "cell_type": "code",
   "execution_count": 16,
   "metadata": {},
   "outputs": [
    {
     "data": {
      "image/png": "[encoded data removed]",
      "text/plain": [
       "<Figure size 432x288 with 1 Axes>"
      ]
     },
     "metadata": {
      "needs_background": "light"
     },
     "output_type": "display_data"
    }
   ],
   "source": [
    "plt.plot(range(maxIter+1), best_fitness2)\n",
    "plt.show()"
   ]
  }
 ],
 "metadata": {
  "kernelspec": {
   "display_name": "Python 3",
   "language": "python",
   "name": "python3"
  },
  "language_info": {
   "codemirror_mode": {
    "name": "ipython",
    "version": 3
   },
   "file_extension": ".py",
   "mimetype": "text/x-python",
   "name": "python",
   "nbconvert_exporter": "python",
   "pygments_lexer": "ipython3",
   "version": "3.8.3"
  }
 },
 "nbformat": 4,
 "nbformat_minor": 4
}
