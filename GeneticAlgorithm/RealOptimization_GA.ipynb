{
 "cells": [
  {
   "cell_type": "markdown",
   "metadata": {},
   "source": [
    "### Optimización continua utilizando algoritmo genético"
   ]
  },
  {
   "cell_type": "markdown",
   "metadata": {},
   "source": [
    "Funciones a optimizar: <br/>\n",
    "- <a href = https://www.sfu.ca/~ssurjano/spheref.html> Sphere Function </a>\n",
    "- <a href = https://www.sfu.ca/~ssurjano/drop.html> Drop-Wave function </a>\n",
    "- <a href = https://www.sfu.ca/~ssurjano/ackley.html> Ackley function </a>"
   ]
  },
  {
   "cell_type": "code",
   "execution_count": 1,
   "metadata": {},
   "outputs": [],
   "source": [
    "import numpy as np\n",
    "import math\n",
    "import matplotlib.pylab as plt"
   ]
  },
  {
   "cell_type": "markdown",
   "metadata": {},
   "source": [
    "Las 3 funciones se multiplican por un signo menos para convertir el problema de minimización en un problema de maximización."
   ]
  },
  {
   "cell_type": "code",
   "execution_count": 2,
   "metadata": {},
   "outputs": [],
   "source": [
    "def sphere_function(x):\n",
    "    # funcion en R^d\n",
    "    d = x.size \n",
    "    fx = 0.0\n",
    "    for i in range(d):\n",
    "        fx += x[i]**2\n",
    "        \n",
    "    return -fx  "
   ]
  },
  {
   "cell_type": "code",
   "execution_count": 3,
   "metadata": {},
   "outputs": [],
   "source": [
    "def dropWave_function(x):\n",
    "    # funcion en R^2\n",
    "    fx = -(1+math.cos(12.0*(x[0]**2+x[1]**2)**0.5))\n",
    "    fx = fx/(0.5*(x[0]**2+x[1]**2)+2)\n",
    "    return -fx"
   ]
  },
  {
   "cell_type": "code",
   "execution_count": 4,
   "metadata": {},
   "outputs": [],
   "source": [
    "def ackley_function(x, a=20, b=0.2, c=2*math.pi):\n",
    "    # funcion en R^d\n",
    "    d = x.size \n",
    "    aux = 0.0\n",
    "    for i in range(d):\n",
    "        aux += math.cos(c*x[i])\n",
    "        \n",
    "    fx = -a*math.exp(-b*(-sphere_function(x)/d)**0.5)-math.exp(aux/d)\n",
    "    fx += a + math.exp(1)\n",
    "    \n",
    "    return -fx"
   ]
  },
  {
   "cell_type": "markdown",
   "metadata": {},
   "source": [
    "### Función de decodificación\n",
    "\n",
    "Se pasan como argumentos el individuo $a$, el número de bits $l_x$ para decodificar $x_i$, y los vectores $u=(u_1, \\ldots, u_d)$, $v=(v_1, \\ldots, v_d)$ que definen el dominio $[u_1, v_1]\\times \\dots \\times [u_d, v_d]$ de la función `fitness` a maximizar. Devuelve el vector $x=(x_1,\\ldots, x_d)\\in [u_1, v_1]\\times \\dots \\times [u_d, v_d]$ que representa el individuo $a$."
   ]
  },
  {
   "cell_type": "code",
   "execution_count": 5,
   "metadata": {},
   "outputs": [],
   "source": [
    "def sigma(a, lx, u, v):\n",
    "    aux = 0.0\n",
    "    x = []\n",
    "    \n",
    "    for i in range(d):\n",
    "        for j in range(lx):\n",
    "            aux += a[(i+1)*lx-1-j]*2**j\n",
    "        \n",
    "        xi = u[i] +(v[i]-u[i])/(2**lx-1)*aux\n",
    "        x.append(xi)\n",
    "    \n",
    "    return np.array(x)"
   ]
  },
  {
   "cell_type": "markdown",
   "metadata": {},
   "source": [
    "### Evaluación\n",
    "\n",
    "Función para evaluar la población $P$ de $N$ individuos de acuerdo a la función `fitness`."
   ]
  },
  {
   "cell_type": "code",
   "execution_count": 6,
   "metadata": {},
   "outputs": [],
   "source": [
    "def evaluate(P, N, lx, u, v, fitness):\n",
    "    ranking = []\n",
    "    for i in range(N):\n",
    "        x = sigma(P[i], lx, u, v)\n",
    "        ranking.append(fitness(x))\n",
    "        \n",
    "    return ranking"
   ]
  },
  {
   "cell_type": "markdown",
   "metadata": {},
   "source": [
    "### Operador de selección: Torneo binario\n",
    "\n",
    "`P` es la población de individuos de tamaño $N$. `ranking` es el arreglo del fitness de cada individuo ya precalculado anteriormente. `mu` es el número de ganadores del torneo a escoger. "
   ]
  },
  {
   "cell_type": "code",
   "execution_count": 7,
   "metadata": {},
   "outputs": [],
   "source": [
    "def selectionOperator(P, ranking, N, mu): \n",
    "    # 2*mu es el numero de torneos binarios, por lo que habra mu ganadores\n",
    "    # regresa los indices de los individuos en P seleccionados\n",
    "    \n",
    "    randomIndex = np.random.choice(N, 2*mu, replace=True)\n",
    "    winners = []\n",
    "        \n",
    "    k=0\n",
    "    while 2*k+1 < 2*mu:\n",
    "        i1 = randomIndex[2*k]\n",
    "        i2 = randomIndex[2*k+1]\n",
    "    \n",
    "        i1_fitness = ranking[i1]\n",
    "        i2_fitness = ranking[i2]\n",
    "\n",
    "        if i1_fitness > i2_fitness:\n",
    "            winners.append(i1)\n",
    "        else:\n",
    "            winners.append(i2)\n",
    "        k += 1\n",
    "            \n",
    "    return winners"
   ]
  },
  {
   "cell_type": "markdown",
   "metadata": {},
   "source": [
    "### Operador de cruza\n",
    "Cruza en dos puntos. `numVars` es igual a $d\\cdot lx$."
   ]
  },
  {
   "cell_type": "code",
   "execution_count": 8,
   "metadata": {},
   "outputs": [],
   "source": [
    "def crossoverOperator(S, numVars, mu):\n",
    "    # S es la poblacion seleccionada de P a traves del operador de seleccion\n",
    "    # mu es el numero de padres a cruzar, el tamaño de S\n",
    "    # La cruza se hace en S mismo para optimizar\n",
    "    \n",
    "    randomIndex = np.random.choice(mu, mu, replace=False)\n",
    "    \n",
    "    i=0\n",
    "    while 2*i+1<mu :\n",
    "        i1 = randomIndex[2*i]\n",
    "        i2 = randomIndex[2*i+1]\n",
    "        \n",
    "        # 2 puntos de crossover\n",
    "        crossPoints = np.random.choice(range(1,numVars-1), 2, replace=False)\n",
    "        crossPoints.sort()\n",
    "        \n",
    "        # Cruza de S[i1] con S[i2]\n",
    "        offspring1 = S[i1]\n",
    "        offspring2 = S[i2]\n",
    "            \n",
    "        for k in range(numVars):\n",
    "            if k>=crossPoints[0] and k<=crossPoints[1]: # intercambio de bits de los individuos entre los puntos de cruza\n",
    "                aux = offspring1[k]\n",
    "                offspring1[k] = offspring2[k]\n",
    "                offspring2[k] = aux\n",
    "        \n",
    "        i += 1"
   ]
  },
  {
   "cell_type": "markdown",
   "metadata": {},
   "source": [
    "### Operador de mutación\n",
    "Mutación uniforme"
   ]
  },
  {
   "cell_type": "code",
   "execution_count": 9,
   "metadata": {},
   "outputs": [],
   "source": [
    "def uniformMutationOperator(C, numVars, p):\n",
    "    # C es el conjunto de individuos obtenidos al aplicar el operador de cruza\n",
    "    # p es la probabilidad de mutacion\n",
    "    # La mutacion dentro de C para optimizar\n",
    "    \n",
    "    for i in range(len(C)):\n",
    "        for j in range(numVars):\n",
    "            if np.random.uniform() <= p:\n",
    "                C[i][j] = not C[i][j]"
   ]
  },
  {
   "cell_type": "markdown",
   "metadata": {},
   "source": [
    "### Algoritmo Genético\n",
    "\n",
    "Función para maximizar la función fitness $d$-dimensional definida en el compacto $[u_1, v_1]\\times ... \\times [u_d, v_d]$. Se pasan como argumentos la función `fitness`, la dimensión $d$, el tamaño $l_x$ para representar cada variable $x_i$, los vectores $u=(u_1, \\ldots, u_d)$, $v=(v_1, \\ldots, v_d)$ que definen el dominio, el tamaño de la población $N$ constante en cada generación, el porcentaje del elitismo `elite_percent`, y el número máximo de iteraciones `maxIter`."
   ]
  },
  {
   "cell_type": "code",
   "execution_count": 10,
   "metadata": {},
   "outputs": [],
   "source": [
    "def maximize(fitness, d, lx, u, v, N=100, elite_percent=0.1, maxIter=100):\n",
    "    \n",
    "    mu = int((1-elite_percent)*N) # complemento del porcentaje de la elite\n",
    "    numVariables = d*lx\n",
    "    prob_mutation = 1.0/numVariables\n",
    "    \n",
    "    # Poblacion inicial de tamaño N con distribucion uniforme\n",
    "    P = []\n",
    "    for i in range(N):\n",
    "        P.append(np.random.choice([0, 1], numVariables, replace=True))\n",
    "    \n",
    "    best_fitness = []\n",
    "        \n",
    "    for t in range(maxIter):\n",
    "        # Evaluacion de P\n",
    "        ranking = evaluate(P, N, lx, u, v, fitness)\n",
    "        \n",
    "        fit = [(ranking[i],i) for i in range(N)]\n",
    "        fit.sort(reverse=True)\n",
    "        elite = fit[:int(len(P)*elite_percent)]\n",
    "        print('Generacion: ' + str(t) + ' - Mejor fitness de P: ' + str(elite[0][0]) + \" - Indice \" + str(elite[0][1]))\n",
    "        \n",
    "        best_fitness.append(elite[0][0])\n",
    "        \n",
    "        # Seleccion por torneo binario\n",
    "        winners = selectionOperator(P, ranking, N, mu)\n",
    "\n",
    "        P2 = []\n",
    "        for i in range(len(winners)):\n",
    "            P2.append(np.copy(P[winners[i]]))\n",
    "\n",
    "        # Cruza\n",
    "        crossoverOperator(P2, numVariables, mu)\n",
    "\n",
    "        # Mutation\n",
    "        uniformMutationOperator(P2, numVariables, prob_mutation)\n",
    "\n",
    "        # Reemplazo \n",
    "        for i in range(len(elite)):\n",
    "            P2.append(np.copy(P[elite[i][1]]))\n",
    "            \n",
    "        P = P2\n",
    "        \n",
    "    # Obtener el maximo fitness de la ultima generacion\n",
    "        \n",
    "    maxFit = float('-inf') \n",
    "    maxIndex = 0\n",
    "\n",
    "    for i in range(N):\n",
    "        aux = fitness(sigma(P[i], lx, u, v))\n",
    "        if aux > maxFit:\n",
    "            maxFit = aux\n",
    "            maxIndex = i\n",
    "    best_fitness.append(maxFit)\n",
    "    \n",
    "    print('Generacion: ' + str(maxIter) + ' - Mejor fitness de P: ' + str(maxFit) + \" - Indice \" + str(maxIndex))\n",
    "        \n",
    "    return sigma(P[maxIndex], lx, u, v), best_fitness"
   ]
  },
  {
   "cell_type": "markdown",
   "metadata": {},
   "source": [
    "### Minimizando la sphere function"
   ]
  },
  {
   "cell_type": "code",
   "execution_count": 11,
   "metadata": {},
   "outputs": [],
   "source": [
    "d = 2\n",
    "u = np.array([-5.12 for i in range(d)])\n",
    "v = np.array([5.12 for i in range(d)])\n",
    "lx = 50\n",
    "maxIter = 100"
   ]
  },
  {
   "cell_type": "code",
   "execution_count": 12,
   "metadata": {},
   "outputs": [
    {
     "name": "stdout",
     "output_type": "stream",
     "text": [
      "Generacion: 0 - Mejor fitness de P: -0.4118581599033254 - Indice 38\n",
      "Generacion: 1 - Mejor fitness de P: -0.4118581599033254 - Indice 90\n",
      "Generacion: 2 - Mejor fitness de P: -0.18332493037886857 - Indice 48\n",
      "Generacion: 3 - Mejor fitness de P: -0.18332493037886857 - Indice 90\n",
      "Generacion: 4 - Mejor fitness de P: -0.033672484719828116 - Indice 72\n",
      "Generacion: 5 - Mejor fitness de P: -0.006028608467442316 - Indice 62\n",
      "Generacion: 6 - Mejor fitness de P: -0.006028608467442316 - Indice 90\n",
      "Generacion: 7 - Mejor fitness de P: -0.005966547612252356 - Indice 36\n",
      "Generacion: 8 - Mejor fitness de P: -0.004682166282574378 - Indice 76\n",
      "Generacion: 9 - Mejor fitness de P: -0.0012825688844066896 - Indice 79\n",
      "Generacion: 10 - Mejor fitness de P: -0.0012796165273660967 - Indice 76\n",
      "Generacion: 11 - Mejor fitness de P: -0.000507529555153044 - Indice 8\n",
      "Generacion: 12 - Mejor fitness de P: -0.0003694496641771927 - Indice 59\n",
      "Generacion: 13 - Mejor fitness de P: -0.0003694496641771927 - Indice 90\n",
      "Generacion: 14 - Mejor fitness de P: -0.00013966040096510414 - Indice 45\n",
      "Generacion: 15 - Mejor fitness de P: -0.00013966040096510414 - Indice 90\n",
      "Generacion: 16 - Mejor fitness de P: -0.00011313878017026788 - Indice 33\n",
      "Generacion: 17 - Mejor fitness de P: -0.00011015025151914139 - Indice 69\n",
      "Generacion: 18 - Mejor fitness de P: -0.00010937287212598609 - Indice 84\n",
      "Generacion: 19 - Mejor fitness de P: -0.00010378498181474232 - Indice 34\n",
      "Generacion: 20 - Mejor fitness de P: -8.303399593638176e-05 - Indice 20\n",
      "Generacion: 21 - Mejor fitness de P: -7.702480967821431e-05 - Indice 75\n",
      "Generacion: 22 - Mejor fitness de P: -6.925028990561049e-05 - Indice 73\n",
      "Generacion: 23 - Mejor fitness de P: -6.420690340282266e-05 - Indice 46\n",
      "Generacion: 24 - Mejor fitness de P: -6.420690337716665e-05 - Indice 16\n",
      "Generacion: 25 - Mejor fitness de P: -5.1335592485824436e-05 - Indice 7\n",
      "Generacion: 26 - Mejor fitness de P: -5.1335592485824436e-05 - Indice 90\n",
      "Generacion: 27 - Mejor fitness de P: -5.1335592485824436e-05 - Indice 90\n",
      "Generacion: 28 - Mejor fitness de P: -5.08429961966132e-05 - Indice 1\n",
      "Generacion: 29 - Mejor fitness de P: -5.08429961966132e-05 - Indice 90\n",
      "Generacion: 30 - Mejor fitness de P: -5.883605573616334e-07 - Indice 51\n",
      "Generacion: 31 - Mejor fitness de P: -4.5913096317726023e-07 - Indice 30\n",
      "Generacion: 32 - Mejor fitness de P: -4.5913096317726023e-07 - Indice 90\n",
      "Generacion: 33 - Mejor fitness de P: -4.5913096317726023e-07 - Indice 90\n",
      "Generacion: 34 - Mejor fitness de P: -4.5913096317726023e-07 - Indice 90\n",
      "Generacion: 35 - Mejor fitness de P: -4.3149090091388867e-07 - Indice 40\n",
      "Generacion: 36 - Mejor fitness de P: -2.0240135885923464e-08 - Indice 3\n",
      "Generacion: 37 - Mejor fitness de P: -6.854712930942099e-09 - Indice 39\n",
      "Generacion: 38 - Mejor fitness de P: -6.854712930942099e-09 - Indice 90\n",
      "Generacion: 39 - Mejor fitness de P: -6.647174672847549e-09 - Indice 10\n",
      "Generacion: 40 - Mejor fitness de P: -3.4084185278054315e-09 - Indice 0\n",
      "Generacion: 41 - Mejor fitness de P: -3.4010958750345287e-09 - Indice 88\n",
      "Generacion: 42 - Mejor fitness de P: -7.698309240457725e-10 - Indice 13\n",
      "Generacion: 43 - Mejor fitness de P: -7.698309240457725e-10 - Indice 90\n",
      "Generacion: 44 - Mejor fitness de P: -2.840205179823499e-10 - Indice 0\n",
      "Generacion: 45 - Mejor fitness de P: -2.840205179823499e-10 - Indice 90\n",
      "Generacion: 46 - Mejor fitness de P: -2.840205179823499e-10 - Indice 90\n",
      "Generacion: 47 - Mejor fitness de P: -2.840205179823499e-10 - Indice 90\n",
      "Generacion: 48 - Mejor fitness de P: -2.1218897511137672e-10 - Indice 14\n",
      "Generacion: 49 - Mejor fitness de P: -2.1218897511137672e-10 - Indice 90\n",
      "Generacion: 50 - Mejor fitness de P: -2.088146638533858e-10 - Indice 80\n",
      "Generacion: 51 - Mejor fitness de P: -1.8786923797852149e-10 - Indice 64\n",
      "Generacion: 52 - Mejor fitness de P: -1.8786923797852149e-10 - Indice 90\n",
      "Generacion: 53 - Mejor fitness de P: -1.8786923797852149e-10 - Indice 90\n",
      "Generacion: 54 - Mejor fitness de P: -1.693922134163054e-10 - Indice 4\n",
      "Generacion: 55 - Mejor fitness de P: -1.6495251724375284e-10 - Indice 45\n",
      "Generacion: 56 - Mejor fitness de P: -1.6495251724375284e-10 - Indice 90\n",
      "Generacion: 57 - Mejor fitness de P: -1.2432994789239044e-10 - Indice 41\n",
      "Generacion: 58 - Mejor fitness de P: -1.2432994789239044e-10 - Indice 90\n",
      "Generacion: 59 - Mejor fitness de P: -1.2432994789239044e-10 - Indice 91\n",
      "Generacion: 60 - Mejor fitness de P: -1.2399336451792813e-10 - Indice 85\n",
      "Generacion: 61 - Mejor fitness de P: -1.23853279913995e-10 - Indice 74\n",
      "Generacion: 62 - Mejor fitness de P: -2.0249926587770497e-11 - Indice 3\n",
      "Generacion: 63 - Mejor fitness de P: -2.0249926587770497e-11 - Indice 90\n",
      "Generacion: 64 - Mejor fitness de P: -2.0249926587770497e-11 - Indice 90\n",
      "Generacion: 65 - Mejor fitness de P: -2.0249926587770497e-11 - Indice 90\n",
      "Generacion: 66 - Mejor fitness de P: -2.0249773968168503e-11 - Indice 89\n",
      "Generacion: 67 - Mejor fitness de P: -2.0249773968168503e-11 - Indice 90\n",
      "Generacion: 68 - Mejor fitness de P: -1.849995656484366e-11 - Indice 27\n",
      "Generacion: 69 - Mejor fitness de P: -1.222897502945725e-11 - Indice 34\n",
      "Generacion: 70 - Mejor fitness de P: -1.222897502945725e-11 - Indice 90\n",
      "Generacion: 71 - Mejor fitness de P: -1.2219802516529196e-11 - Indice 73\n",
      "Generacion: 72 - Mejor fitness de P: -1.2219797814572407e-11 - Indice 33\n",
      "Generacion: 73 - Mejor fitness de P: -1.2219797814572407e-11 - Indice 90\n",
      "Generacion: 74 - Mejor fitness de P: -1.2217686650706381e-11 - Indice 30\n",
      "Generacion: 75 - Mejor fitness de P: -1.0333076686228645e-11 - Indice 76\n",
      "Generacion: 76 - Mejor fitness de P: -1.0333076686228645e-11 - Indice 90\n",
      "Generacion: 77 - Mejor fitness de P: -1.0333076686228645e-11 - Indice 90\n",
      "Generacion: 78 - Mejor fitness de P: -1.0333076686228645e-11 - Indice 90\n",
      "Generacion: 79 - Mejor fitness de P: -1.0333076686228645e-11 - Indice 90\n",
      "Generacion: 80 - Mejor fitness de P: -5.6698380579300086e-12 - Indice 56\n",
      "Generacion: 81 - Mejor fitness de P: -4.479515581248506e-12 - Indice 49\n",
      "Generacion: 82 - Mejor fitness de P: -2.8110766359516975e-12 - Indice 51\n",
      "Generacion: 83 - Mejor fitness de P: -2.8110766359516975e-12 - Indice 90\n",
      "Generacion: 84 - Mejor fitness de P: -2.8110766359516975e-12 - Indice 90\n",
      "Generacion: 85 - Mejor fitness de P: -2.810911367537183e-12 - Indice 3\n",
      "Generacion: 86 - Mejor fitness de P: -2.810911367537183e-12 - Indice 90\n",
      "Generacion: 87 - Mejor fitness de P: -2.1862925918271355e-12 - Indice 6\n",
      "Generacion: 88 - Mejor fitness de P: -2.1821470602462607e-12 - Indice 41\n",
      "Generacion: 89 - Mejor fitness de P: -1.423088272432525e-12 - Indice 28\n",
      "Generacion: 90 - Mejor fitness de P: -6.644756318775879e-13 - Indice 66\n",
      "Generacion: 91 - Mejor fitness de P: -5.728334575650597e-13 - Indice 69\n",
      "Generacion: 92 - Mejor fitness de P: -5.728334575650597e-13 - Indice 90\n",
      "Generacion: 93 - Mejor fitness de P: -3.4723365703312937e-13 - Indice 87\n",
      "Generacion: 94 - Mejor fitness de P: -2.9315509998687016e-13 - Indice 29\n",
      "Generacion: 95 - Mejor fitness de P: -2.91067897607261e-13 - Indice 35\n",
      "Generacion: 96 - Mejor fitness de P: -2.416170197844336e-13 - Indice 81\n",
      "Generacion: 97 - Mejor fitness de P: -1.0772214989725321e-13 - Indice 20\n",
      "Generacion: 98 - Mejor fitness de P: -1.0406434306458158e-13 - Indice 89\n",
      "Generacion: 99 - Mejor fitness de P: -5.72612605412685e-14 - Indice 53\n",
      "Generacion: 100 - Mejor fitness de P: -5.72612605412685e-14 - Indice 90\n"
     ]
    },
    {
     "data": {
      "text/plain": [
       "array([-2.32413681e-07, -5.69661420e-08])"
      ]
     },
     "execution_count": 12,
     "metadata": {},
     "output_type": "execute_result"
    }
   ],
   "source": [
    "x_star, best_fitness = maximize(sphere_function, d, lx, u, v, maxIter = maxIter)\n",
    "x_star"
   ]
  },
  {
   "cell_type": "code",
   "execution_count": 13,
   "metadata": {},
   "outputs": [
    {
     "data": {
      "image/png": "[encoded data removed]",
      "text/plain": [
       "<Figure size 432x288 with 1 Axes>"
      ]
     },
     "metadata": {
      "needs_background": "light"
     },
     "output_type": "display_data"
    }
   ],
   "source": [
    "plt.plot(range(maxIter+1), best_fitness)\n",
    "plt.show()"
   ]
  },
  {
   "cell_type": "markdown",
   "metadata": {},
   "source": [
    "### Minimizando la drop-wave function"
   ]
  },
  {
   "cell_type": "code",
   "execution_count": 14,
   "metadata": {},
   "outputs": [],
   "source": [
    "d = 2\n",
    "u = np.array([-5.12 for i in range(d)])\n",
    "v = np.array([5.12 for i in range(d)])\n",
    "lx = 10\n",
    "maxIter = 100"
   ]
  },
  {
   "cell_type": "code",
   "execution_count": 15,
   "metadata": {},
   "outputs": [
    {
     "name": "stdout",
     "output_type": "stream",
     "text": [
      "Generacion: 0 - Mejor fitness de P: 0.7310091314393359 - Indice 2\n",
      "Generacion: 1 - Mejor fitness de P: 0.7310091314393359 - Indice 90\n",
      "Generacion: 2 - Mejor fitness de P: 0.7338201605396897 - Indice 1\n",
      "Generacion: 3 - Mejor fitness de P: 0.9361377897035548 - Indice 53\n",
      "Generacion: 4 - Mejor fitness de P: 0.9361377897035548 - Indice 90\n",
      "Generacion: 5 - Mejor fitness de P: 0.9361377897035548 - Indice 90\n",
      "Generacion: 6 - Mejor fitness de P: 0.9361377897035548 - Indice 90\n",
      "Generacion: 7 - Mejor fitness de P: 0.9361377897035548 - Indice 90\n",
      "Generacion: 8 - Mejor fitness de P: 0.9361377897035548 - Indice 90\n",
      "Generacion: 9 - Mejor fitness de P: 0.9361377897035548 - Indice 90\n",
      "Generacion: 10 - Mejor fitness de P: 0.9361377897035548 - Indice 90\n",
      "Generacion: 11 - Mejor fitness de P: 0.9361377897035548 - Indice 90\n",
      "Generacion: 12 - Mejor fitness de P: 0.9361878175407568 - Indice 80\n",
      "Generacion: 13 - Mejor fitness de P: 0.9361878175407568 - Indice 90\n",
      "Generacion: 14 - Mejor fitness de P: 0.9361878175407568 - Indice 90\n",
      "Generacion: 15 - Mejor fitness de P: 0.9362321906387335 - Indice 27\n",
      "Generacion: 16 - Mejor fitness de P: 0.9362321906387335 - Indice 90\n",
      "Generacion: 17 - Mejor fitness de P: 0.9362321906387335 - Indice 90\n",
      "Generacion: 18 - Mejor fitness de P: 0.9362321906387335 - Indice 90\n",
      "Generacion: 19 - Mejor fitness de P: 0.9362321906387335 - Indice 90\n",
      "Generacion: 20 - Mejor fitness de P: 0.9362390689788351 - Indice 1\n",
      "Generacion: 21 - Mejor fitness de P: 0.9362390689788351 - Indice 90\n",
      "Generacion: 22 - Mejor fitness de P: 0.9362390689788351 - Indice 90\n",
      "Generacion: 23 - Mejor fitness de P: 0.9362390689788351 - Indice 90\n",
      "Generacion: 24 - Mejor fitness de P: 0.9362390689788351 - Indice 92\n",
      "Generacion: 25 - Mejor fitness de P: 0.9362390689788351 - Indice 96\n",
      "Generacion: 26 - Mejor fitness de P: 0.9362390689788351 - Indice 99\n",
      "Generacion: 27 - Mejor fitness de P: 0.9362390689788351 - Indice 99\n",
      "Generacion: 28 - Mejor fitness de P: 0.9362390689788351 - Indice 99\n",
      "Generacion: 29 - Mejor fitness de P: 0.9362390689788351 - Indice 99\n",
      "Generacion: 30 - Mejor fitness de P: 0.9362390689788351 - Indice 99\n",
      "Generacion: 31 - Mejor fitness de P: 0.9362390689788351 - Indice 99\n",
      "Generacion: 32 - Mejor fitness de P: 0.9362390689788351 - Indice 99\n",
      "Generacion: 33 - Mejor fitness de P: 0.9362390689788351 - Indice 99\n",
      "Generacion: 34 - Mejor fitness de P: 0.9362390689788351 - Indice 99\n",
      "Generacion: 35 - Mejor fitness de P: 0.9362390689788351 - Indice 99\n",
      "Generacion: 36 - Mejor fitness de P: 0.9362390689788351 - Indice 99\n",
      "Generacion: 37 - Mejor fitness de P: 0.9362390689788351 - Indice 99\n",
      "Generacion: 38 - Mejor fitness de P: 0.9362390689788351 - Indice 99\n",
      "Generacion: 39 - Mejor fitness de P: 0.9362390689788351 - Indice 99\n",
      "Generacion: 40 - Mejor fitness de P: 0.9362390689788351 - Indice 99\n",
      "Generacion: 41 - Mejor fitness de P: 0.9362390689788351 - Indice 99\n",
      "Generacion: 42 - Mejor fitness de P: 0.9362390689788351 - Indice 99\n",
      "Generacion: 43 - Mejor fitness de P: 0.9362390689788351 - Indice 99\n",
      "Generacion: 44 - Mejor fitness de P: 0.9362390689788351 - Indice 99\n",
      "Generacion: 45 - Mejor fitness de P: 0.9362390689788351 - Indice 99\n",
      "Generacion: 46 - Mejor fitness de P: 0.9362390689788351 - Indice 99\n",
      "Generacion: 47 - Mejor fitness de P: 0.9362390689788351 - Indice 99\n",
      "Generacion: 48 - Mejor fitness de P: 0.9362390689788351 - Indice 99\n",
      "Generacion: 49 - Mejor fitness de P: 0.9362390689788351 - Indice 99\n",
      "Generacion: 50 - Mejor fitness de P: 0.9362390689788351 - Indice 99\n",
      "Generacion: 51 - Mejor fitness de P: 0.9362390689788351 - Indice 99\n",
      "Generacion: 52 - Mejor fitness de P: 0.9362390689788351 - Indice 99\n",
      "Generacion: 53 - Mejor fitness de P: 0.9362390689788351 - Indice 99\n",
      "Generacion: 54 - Mejor fitness de P: 0.9362390689788351 - Indice 99\n",
      "Generacion: 55 - Mejor fitness de P: 0.9362390689788351 - Indice 99\n",
      "Generacion: 56 - Mejor fitness de P: 0.9362390689788351 - Indice 99\n",
      "Generacion: 57 - Mejor fitness de P: 0.9362390689788351 - Indice 99\n",
      "Generacion: 58 - Mejor fitness de P: 0.9362390689788351 - Indice 99\n",
      "Generacion: 59 - Mejor fitness de P: 0.9362390689788351 - Indice 99\n",
      "Generacion: 60 - Mejor fitness de P: 0.9362390689788351 - Indice 99\n",
      "Generacion: 61 - Mejor fitness de P: 0.9362390689788351 - Indice 99\n",
      "Generacion: 62 - Mejor fitness de P: 0.9362390689788351 - Indice 99\n",
      "Generacion: 63 - Mejor fitness de P: 0.9362390689788351 - Indice 99\n",
      "Generacion: 64 - Mejor fitness de P: 0.9362390689788351 - Indice 99\n",
      "Generacion: 65 - Mejor fitness de P: 0.9362390689788351 - Indice 99\n",
      "Generacion: 66 - Mejor fitness de P: 0.9362390689788351 - Indice 99\n",
      "Generacion: 67 - Mejor fitness de P: 0.9362390689788351 - Indice 99\n",
      "Generacion: 68 - Mejor fitness de P: 0.9362413877817781 - Indice 47\n",
      "Generacion: 69 - Mejor fitness de P: 0.9362413877817781 - Indice 90\n",
      "Generacion: 70 - Mejor fitness de P: 0.9362413877817781 - Indice 92\n",
      "Generacion: 71 - Mejor fitness de P: 0.9362413877817781 - Indice 92\n",
      "Generacion: 72 - Mejor fitness de P: 0.9362413877817781 - Indice 93\n",
      "Generacion: 73 - Mejor fitness de P: 0.9362413877817781 - Indice 93\n",
      "Generacion: 74 - Mejor fitness de P: 0.9362413877817781 - Indice 96\n",
      "Generacion: 75 - Mejor fitness de P: 0.9362413877817781 - Indice 99\n",
      "Generacion: 76 - Mejor fitness de P: 0.9362413877817781 - Indice 99\n",
      "Generacion: 77 - Mejor fitness de P: 0.9362413877817781 - Indice 99\n",
      "Generacion: 78 - Mejor fitness de P: 0.9362413877817781 - Indice 99\n",
      "Generacion: 79 - Mejor fitness de P: 0.9362413877817781 - Indice 99\n",
      "Generacion: 80 - Mejor fitness de P: 0.9362413877817781 - Indice 99\n",
      "Generacion: 81 - Mejor fitness de P: 0.9362413877817781 - Indice 99\n",
      "Generacion: 82 - Mejor fitness de P: 0.9362413877817781 - Indice 99\n",
      "Generacion: 83 - Mejor fitness de P: 0.9362413877817781 - Indice 99\n",
      "Generacion: 84 - Mejor fitness de P: 0.9362413877817781 - Indice 99\n",
      "Generacion: 85 - Mejor fitness de P: 0.9362413877817781 - Indice 99\n",
      "Generacion: 86 - Mejor fitness de P: 0.9362413877817781 - Indice 99\n",
      "Generacion: 87 - Mejor fitness de P: 0.9362413877817781 - Indice 99\n",
      "Generacion: 88 - Mejor fitness de P: 0.9362413877817781 - Indice 99\n",
      "Generacion: 89 - Mejor fitness de P: 0.9482589826458564 - Indice 6\n",
      "Generacion: 90 - Mejor fitness de P: 0.9482589826458564 - Indice 90\n",
      "Generacion: 91 - Mejor fitness de P: 0.9482589826458564 - Indice 90\n",
      "Generacion: 92 - Mejor fitness de P: 0.9482589826458564 - Indice 90\n",
      "Generacion: 93 - Mejor fitness de P: 0.9482589826458564 - Indice 90\n",
      "Generacion: 94 - Mejor fitness de P: 0.9482589826458564 - Indice 90\n",
      "Generacion: 95 - Mejor fitness de P: 0.9482589826458564 - Indice 90\n",
      "Generacion: 96 - Mejor fitness de P: 0.9482589826458564 - Indice 90\n",
      "Generacion: 97 - Mejor fitness de P: 0.9482589826458564 - Indice 90\n",
      "Generacion: 98 - Mejor fitness de P: 0.9482589826458564 - Indice 91\n",
      "Generacion: 99 - Mejor fitness de P: 0.9482589826458564 - Indice 91\n",
      "Generacion: 100 - Mejor fitness de P: 0.9552864519797034 - Indice 70\n"
     ]
    },
    {
     "data": {
      "text/plain": [
       "array([-0.03503421,  0.00500489])"
      ]
     },
     "execution_count": 15,
     "metadata": {},
     "output_type": "execute_result"
    }
   ],
   "source": [
    "x_star, best_fitness = maximize(dropWave_function, d, lx, u, v, maxIter = maxIter)\n",
    "x_star"
   ]
  },
  {
   "cell_type": "code",
   "execution_count": 16,
   "metadata": {},
   "outputs": [
    {
     "data": {
      "image/png": "[encoded data removed]",
      "text/plain": [
       "<Figure size 432x288 with 1 Axes>"
      ]
     },
     "metadata": {
      "needs_background": "light"
     },
     "output_type": "display_data"
    }
   ],
   "source": [
    "plt.plot(range(maxIter+1), best_fitness)\n",
    "plt.show()"
   ]
  },
  {
   "cell_type": "markdown",
   "metadata": {},
   "source": [
    "### Minimizando la Ackley function"
   ]
  },
  {
   "cell_type": "code",
   "execution_count": 17,
   "metadata": {},
   "outputs": [],
   "source": [
    "d = 2\n",
    "u = np.array([-5.12 for i in range(d)])\n",
    "v = np.array([5.12 for i in range(d)])\n",
    "lx = 10\n",
    "maxIter = 100"
   ]
  },
  {
   "cell_type": "code",
   "execution_count": 18,
   "metadata": {},
   "outputs": [
    {
     "name": "stdout",
     "output_type": "stream",
     "text": [
      "Generacion: 0 - Mejor fitness de P: -2.5322785752692702 - Indice 99\n",
      "Generacion: 1 - Mejor fitness de P: -2.5322785752692702 - Indice 90\n",
      "Generacion: 2 - Mejor fitness de P: -2.5322785752692702 - Indice 90\n",
      "Generacion: 3 - Mejor fitness de P: -1.4529445049219625 - Indice 44\n",
      "Generacion: 4 - Mejor fitness de P: -1.3370985896447678 - Indice 87\n",
      "Generacion: 5 - Mejor fitness de P: -0.4254674905527729 - Indice 51\n",
      "Generacion: 6 - Mejor fitness de P: -0.4254674905527729 - Indice 90\n",
      "Generacion: 7 - Mejor fitness de P: -0.4254674905527729 - Indice 90\n",
      "Generacion: 8 - Mejor fitness de P: -0.4254674905527729 - Indice 90\n",
      "Generacion: 9 - Mejor fitness de P: -0.4254674905527729 - Indice 90\n",
      "Generacion: 10 - Mejor fitness de P: -0.18197348280865455 - Indice 63\n",
      "Generacion: 11 - Mejor fitness de P: -0.10508683694749266 - Indice 14\n",
      "Generacion: 12 - Mejor fitness de P: -0.05142239688355943 - Indice 67\n",
      "Generacion: 13 - Mejor fitness de P: -0.05142239688355943 - Indice 90\n",
      "Generacion: 14 - Mejor fitness de P: -0.02135313331600841 - Indice 59\n",
      "Generacion: 15 - Mejor fitness de P: -0.02135313331600841 - Indice 91\n",
      "Generacion: 16 - Mejor fitness de P: -0.02135313331600841 - Indice 92\n",
      "Generacion: 17 - Mejor fitness de P: -0.02135313331600841 - Indice 93\n",
      "Generacion: 18 - Mejor fitness de P: -0.02135313331600841 - Indice 95\n",
      "Generacion: 19 - Mejor fitness de P: -0.02135313331600841 - Indice 98\n",
      "Generacion: 20 - Mejor fitness de P: -0.02135313331600841 - Indice 99\n",
      "Generacion: 21 - Mejor fitness de P: -0.02135313331600841 - Indice 99\n",
      "Generacion: 22 - Mejor fitness de P: -0.02135313331600841 - Indice 99\n",
      "Generacion: 23 - Mejor fitness de P: -0.02135313331600841 - Indice 99\n",
      "Generacion: 24 - Mejor fitness de P: -0.02135313331600841 - Indice 99\n",
      "Generacion: 25 - Mejor fitness de P: -0.02135313331600841 - Indice 99\n",
      "Generacion: 26 - Mejor fitness de P: -0.02135313331600841 - Indice 99\n",
      "Generacion: 27 - Mejor fitness de P: -0.02135313331600841 - Indice 99\n",
      "Generacion: 28 - Mejor fitness de P: -0.02135313331600841 - Indice 99\n",
      "Generacion: 29 - Mejor fitness de P: -0.02135313331600841 - Indice 99\n",
      "Generacion: 30 - Mejor fitness de P: -0.02135313331600841 - Indice 99\n",
      "Generacion: 31 - Mejor fitness de P: -0.02135313331600841 - Indice 99\n",
      "Generacion: 32 - Mejor fitness de P: -0.02135313331600841 - Indice 99\n",
      "Generacion: 33 - Mejor fitness de P: -0.02135313331600841 - Indice 99\n",
      "Generacion: 34 - Mejor fitness de P: -0.02135313331600841 - Indice 99\n",
      "Generacion: 35 - Mejor fitness de P: -0.02135313331600841 - Indice 99\n",
      "Generacion: 36 - Mejor fitness de P: -0.02135313331600841 - Indice 99\n",
      "Generacion: 37 - Mejor fitness de P: -0.02135313331600841 - Indice 99\n",
      "Generacion: 38 - Mejor fitness de P: -0.02135313331600841 - Indice 99\n",
      "Generacion: 39 - Mejor fitness de P: -0.02135313331600841 - Indice 99\n",
      "Generacion: 40 - Mejor fitness de P: -0.02135313331600841 - Indice 99\n",
      "Generacion: 41 - Mejor fitness de P: -0.02135313331600841 - Indice 99\n",
      "Generacion: 42 - Mejor fitness de P: -0.02135313331600841 - Indice 99\n",
      "Generacion: 43 - Mejor fitness de P: -0.02135313331600841 - Indice 99\n",
      "Generacion: 44 - Mejor fitness de P: -0.02135313331600841 - Indice 99\n",
      "Generacion: 45 - Mejor fitness de P: -0.02135313331600841 - Indice 99\n",
      "Generacion: 46 - Mejor fitness de P: -0.02135313331600841 - Indice 99\n",
      "Generacion: 47 - Mejor fitness de P: -0.02135313331600841 - Indice 99\n",
      "Generacion: 48 - Mejor fitness de P: -0.02135313331600841 - Indice 99\n",
      "Generacion: 49 - Mejor fitness de P: -0.02135313331600841 - Indice 99\n",
      "Generacion: 50 - Mejor fitness de P: -0.02135313331600841 - Indice 99\n",
      "Generacion: 51 - Mejor fitness de P: -0.02135313331600841 - Indice 99\n",
      "Generacion: 52 - Mejor fitness de P: -0.02135313331600841 - Indice 99\n",
      "Generacion: 53 - Mejor fitness de P: -0.02135313331600841 - Indice 99\n",
      "Generacion: 54 - Mejor fitness de P: -0.02135313331600841 - Indice 99\n",
      "Generacion: 55 - Mejor fitness de P: -0.02135313331600841 - Indice 99\n",
      "Generacion: 56 - Mejor fitness de P: -0.02135313331600841 - Indice 99\n",
      "Generacion: 57 - Mejor fitness de P: -0.02135313331600841 - Indice 99\n",
      "Generacion: 58 - Mejor fitness de P: -0.02135313331600841 - Indice 99\n",
      "Generacion: 59 - Mejor fitness de P: -0.02135313331600841 - Indice 99\n",
      "Generacion: 60 - Mejor fitness de P: -0.02135313331600841 - Indice 99\n",
      "Generacion: 61 - Mejor fitness de P: -0.02135313331600841 - Indice 99\n",
      "Generacion: 62 - Mejor fitness de P: -0.02135313331600841 - Indice 99\n",
      "Generacion: 63 - Mejor fitness de P: -0.02135313331600841 - Indice 99\n",
      "Generacion: 64 - Mejor fitness de P: -0.02135313331600841 - Indice 99\n",
      "Generacion: 65 - Mejor fitness de P: -0.02135313331600841 - Indice 99\n",
      "Generacion: 66 - Mejor fitness de P: -0.02135313331600841 - Indice 99\n",
      "Generacion: 67 - Mejor fitness de P: -0.02135313331600841 - Indice 99\n",
      "Generacion: 68 - Mejor fitness de P: -0.02135313331600841 - Indice 99\n",
      "Generacion: 69 - Mejor fitness de P: -0.02135313331600841 - Indice 99\n",
      "Generacion: 70 - Mejor fitness de P: -0.02135313331600841 - Indice 99\n",
      "Generacion: 71 - Mejor fitness de P: -0.02135313331600841 - Indice 99\n",
      "Generacion: 72 - Mejor fitness de P: -0.02135313331600841 - Indice 99\n",
      "Generacion: 73 - Mejor fitness de P: -0.02135313331600841 - Indice 99\n",
      "Generacion: 74 - Mejor fitness de P: -0.02135313331600841 - Indice 99\n",
      "Generacion: 75 - Mejor fitness de P: -0.02135313331600841 - Indice 99\n",
      "Generacion: 76 - Mejor fitness de P: -0.02135313331600841 - Indice 99\n",
      "Generacion: 77 - Mejor fitness de P: -0.02135313331600841 - Indice 99\n",
      "Generacion: 78 - Mejor fitness de P: -0.02135313331600841 - Indice 99\n",
      "Generacion: 79 - Mejor fitness de P: -0.02135313331600841 - Indice 99\n",
      "Generacion: 80 - Mejor fitness de P: -0.02135313331600841 - Indice 99\n",
      "Generacion: 81 - Mejor fitness de P: -0.02135313331600841 - Indice 99\n",
      "Generacion: 82 - Mejor fitness de P: -0.02135313331600841 - Indice 99\n",
      "Generacion: 83 - Mejor fitness de P: -0.02135313331600841 - Indice 99\n",
      "Generacion: 84 - Mejor fitness de P: -0.02135313331600841 - Indice 99\n",
      "Generacion: 85 - Mejor fitness de P: -0.02135313331600841 - Indice 99\n",
      "Generacion: 86 - Mejor fitness de P: -0.02135313331600841 - Indice 99\n",
      "Generacion: 87 - Mejor fitness de P: -0.02135313331600841 - Indice 99\n",
      "Generacion: 88 - Mejor fitness de P: -0.02135313331600841 - Indice 99\n",
      "Generacion: 89 - Mejor fitness de P: -0.02135313331600841 - Indice 99\n",
      "Generacion: 90 - Mejor fitness de P: -0.02135313331600841 - Indice 99\n",
      "Generacion: 91 - Mejor fitness de P: -0.02135313331600841 - Indice 99\n",
      "Generacion: 92 - Mejor fitness de P: -0.02135313331600841 - Indice 99\n",
      "Generacion: 93 - Mejor fitness de P: -0.02135313331600841 - Indice 99\n",
      "Generacion: 94 - Mejor fitness de P: -0.02135313331600841 - Indice 99\n",
      "Generacion: 95 - Mejor fitness de P: -0.02135313331600841 - Indice 99\n",
      "Generacion: 96 - Mejor fitness de P: -0.02135313331600841 - Indice 99\n",
      "Generacion: 97 - Mejor fitness de P: -0.02135313331600841 - Indice 99\n",
      "Generacion: 98 - Mejor fitness de P: -0.02135313331600841 - Indice 99\n",
      "Generacion: 99 - Mejor fitness de P: -0.02135313331600841 - Indice 99\n",
      "Generacion: 100 - Mejor fitness de P: -0.02135313331600841 - Indice 15\n"
     ]
    },
    {
     "data": {
      "text/plain": [
       "array([-0.00500489, -0.00500489])"
      ]
     },
     "execution_count": 18,
     "metadata": {},
     "output_type": "execute_result"
    }
   ],
   "source": [
    "x_star, best_fitness = maximize(ackley_function, d, lx, u, v, maxIter = maxIter)\n",
    "x_star"
   ]
  },
  {
   "cell_type": "code",
   "execution_count": 19,
   "metadata": {},
   "outputs": [
    {
     "data": {
      "image/png": "[encoded data removed]",
      "text/plain": [
       "<Figure size 432x288 with 1 Axes>"
      ]
     },
     "metadata": {
      "needs_background": "light"
     },
     "output_type": "display_data"
    }
   ],
   "source": [
    "plt.plot(range(maxIter+1), best_fitness)\n",
    "plt.show()"
   ]
  }
 ],
 "metadata": {
  "kernelspec": {
   "display_name": "Python 3",
   "language": "python",
   "name": "python3"
  },
  "language_info": {
   "codemirror_mode": {
    "name": "ipython",
    "version": 3
   },
   "file_extension": ".py",
   "mimetype": "text/x-python",
   "name": "python",
   "nbconvert_exporter": "python",
   "pygments_lexer": "ipython3",
   "version": "3.8.3"
  }
 },
 "nbformat": 4,
 "nbformat_minor": 4
}
