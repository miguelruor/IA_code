{
  "nbformat": 4,
  "nbformat_minor": 0,
  "metadata": {
    "colab": {
      "name": "NaiveBayes",
      "provenance": [],
      "collapsed_sections": []
    },
    "kernelspec": {
      "name": "python3",
      "display_name": "Python 3"
    }
  },
  "cells": [
    {
      "cell_type": "markdown",
      "metadata": {
        "id": "T7Hq8Sdu-674",
        "colab_type": "text"
      },
      "source": [
        "# **Algoritmo de Clasificación de Bayes Ingenuo**"
      ]
    },
    {
      "cell_type": "code",
      "metadata": {
        "id": "MztdY6GnYNQB",
        "colab_type": "code",
        "colab": {}
      },
      "source": [
        "import pandas as pd\n",
        "import numpy as np\n",
        "import math\n",
        "from sklearn.model_selection import train_test_split\n",
        "from sklearn import datasets"
      ],
      "execution_count": 1,
      "outputs": []
    },
    {
      "cell_type": "markdown",
      "metadata": {
        "id": "2aGQiewR_W02",
        "colab_type": "text"
      },
      "source": [
        "\n",
        "\n",
        "Extracción de datos\n",
        "\n"
      ]
    },
    {
      "cell_type": "code",
      "metadata": {
        "id": "LrIsls8xYkUO",
        "colab_type": "code",
        "colab": {
          "base_uri": "https://localhost:8080/",
          "height": 459
        },
        "outputId": "ce203845-9afa-41a5-fa82-e7d4a8050346"
      },
      "source": [
        "url = \"https://archive.ics.uci.edu/ml/machine-learning-databases/wine/wine.data\"\n",
        "X = pd.read_csv(url, header = None)\n",
        "y = X.iloc[:,0]\n",
        "X.drop(X.columns[0], axis='columns', inplace=True)\n",
        "X.columns = range(X.shape[1])\n",
        "print(X)\n",
        "print(y)"
      ],
      "execution_count": 2,
      "outputs": [
        {
          "output_type": "stream",
          "text": [
            "        0     1     2     3    4     5   ...    7     8      9     10    11    12\n",
            "0    14.23  1.71  2.43  15.6  127  2.80  ...  0.28  2.29   5.64  1.04  3.92  1065\n",
            "1    13.20  1.78  2.14  11.2  100  2.65  ...  0.26  1.28   4.38  1.05  3.40  1050\n",
            "2    13.16  2.36  2.67  18.6  101  2.80  ...  0.30  2.81   5.68  1.03  3.17  1185\n",
            "3    14.37  1.95  2.50  16.8  113  3.85  ...  0.24  2.18   7.80  0.86  3.45  1480\n",
            "4    13.24  2.59  2.87  21.0  118  2.80  ...  0.39  1.82   4.32  1.04  2.93   735\n",
            "..     ...   ...   ...   ...  ...   ...  ...   ...   ...    ...   ...   ...   ...\n",
            "173  13.71  5.65  2.45  20.5   95  1.68  ...  0.52  1.06   7.70  0.64  1.74   740\n",
            "174  13.40  3.91  2.48  23.0  102  1.80  ...  0.43  1.41   7.30  0.70  1.56   750\n",
            "175  13.27  4.28  2.26  20.0  120  1.59  ...  0.43  1.35  10.20  0.59  1.56   835\n",
            "176  13.17  2.59  2.37  20.0  120  1.65  ...  0.53  1.46   9.30  0.60  1.62   840\n",
            "177  14.13  4.10  2.74  24.5   96  2.05  ...  0.56  1.35   9.20  0.61  1.60   560\n",
            "\n",
            "[178 rows x 13 columns]\n",
            "0      1\n",
            "1      1\n",
            "2      1\n",
            "3      1\n",
            "4      1\n",
            "      ..\n",
            "173    3\n",
            "174    3\n",
            "175    3\n",
            "176    3\n",
            "177    3\n",
            "Name: 0, Length: 178, dtype: int64\n"
          ],
          "name": "stdout"
        }
      ]
    },
    {
      "cell_type": "markdown",
      "metadata": {
        "id": "PvCbEm-2c6hq",
        "colab_type": "text"
      },
      "source": [
        "El número de etiquetas en el dataset son 3"
      ]
    },
    {
      "cell_type": "code",
      "metadata": {
        "id": "NRcHLEt3dCAY",
        "colab_type": "code",
        "colab": {}
      },
      "source": [
        "totalLabels = 3"
      ],
      "execution_count": 3,
      "outputs": []
    },
    {
      "cell_type": "markdown",
      "metadata": {
        "id": "R74W5k2t_hBz",
        "colab_type": "text"
      },
      "source": [
        "Defina la proporción de datos para el conjunto de entrenamiento"
      ]
    },
    {
      "cell_type": "code",
      "metadata": {
        "id": "fhP1s9sFYxJi",
        "colab_type": "code",
        "colab": {
          "base_uri": "https://localhost:8080/",
          "height": 34
        },
        "outputId": "cdc2a7cf-f085-4574-a3a6-627e3444544a"
      },
      "source": [
        "prop = float(input(\"Proporcion de datos para el conjunto de entrenamiento: p = \")) # proporcion del conjunto de entrenamiento\n",
        "X_train, X_test, y_train, y_test = train_test_split(X, y, train_size=prop) #, random_state=0)"
      ],
      "execution_count": 4,
      "outputs": [
        {
          "output_type": "stream",
          "text": [
            "Proporcion de datos para el conjunto de entrenamiento: p = 0.6\n"
          ],
          "name": "stdout"
        }
      ]
    },
    {
      "cell_type": "markdown",
      "metadata": {
        "id": "n9mWbwNJAJJF",
        "colab_type": "text"
      },
      "source": [
        "Función para calcular la media y la desviación estándar por cada característica de cada clase. Se asume que hay un número de $totalLabels$ de diferentes clases en el conjunto de entrenamiento $(X,y)$. También se asume que las clases son $1, 2, \\ldots, totalLabels$."
      ]
    },
    {
      "cell_type": "code",
      "metadata": {
        "id": "HUKWAr8zeB7h",
        "colab_type": "code",
        "colab": {}
      },
      "source": [
        "def estadisticos(X, y, numElementos):\n",
        "  # Funcion para calcular la media y la desviacion estandar por cada caracteristica de cada clase\n",
        "  # numElementos es un arreglo tal que su entrada k es el numero de patrones de la clase k+1\n",
        "\n",
        "  totalLabels = len(numElementos)\n",
        "\n",
        "  m = len(y) \n",
        "  n = X.shape[1] # numero de caracteristicas\n",
        "\n",
        "  sigma = np.zeros((totalLabels, n)) # Matriz cuya entrada (k,j) sera la desviacion estandar de la j-esima caracteristica en la k-esima clase\n",
        "  mu = np.zeros((totalLabels, n)) # Matriz cuya entrada (k,j) sera la media de la j-esima caracteristica en la k-esima clase\n",
        "  mu_2 = np.zeros((totalLabels, n)) # Matriz cuya entrada (k,j) sera el segundo momento de la j-esima caracteristica en la k-esima clase\n",
        "\n",
        "  # Recordemos mu = (1/N)\\sum_i x_i, mu_2 = (1/N)\\sum_i x_i^2, y sigma = \\sqrt{mu_2 - (mu)^2}.\n",
        "\n",
        "  for i in range(m):\n",
        "    k = int(y[i])-1\n",
        "    \n",
        "    for t in range(n):\n",
        "      mu[k][t] += X[i][t]\n",
        "      mu_2[k][t] += X[i][t]**2\n",
        "\n",
        "  for k in range(totalLabels):\n",
        "    for t in range(n):\n",
        "      mu[k][t] = mu[k][t]/numElementos[k]\n",
        "      mu_2[k][t] = mu_2[k][t]/numElementos[k]\n",
        "\n",
        "      sigma[k][t] = (mu_2[k][t]-mu[k][t]**2)**(0.5)\n",
        "\n",
        "  return mu, sigma\n"
      ],
      "execution_count": 5,
      "outputs": []
    },
    {
      "cell_type": "code",
      "metadata": {
        "id": "0uqpLiH3kvuq",
        "colab_type": "code",
        "colab": {
          "base_uri": "https://localhost:8080/",
          "height": 136
        },
        "outputId": "6368d157-9b9e-4d76-8437-8ba207688fbd"
      },
      "source": [
        "print(X_train.to_numpy())"
      ],
      "execution_count": 6,
      "outputs": [
        {
          "output_type": "stream",
          "text": [
            "[[1.438e+01 3.590e+00 2.280e+00 ... 1.040e+00 3.440e+00 1.065e+03]\n",
            " [1.323e+01 3.300e+00 2.280e+00 ... 5.600e-01 1.510e+00 6.750e+02]\n",
            " [1.311e+01 1.010e+00 1.700e+00 ... 1.120e+00 3.180e+00 5.020e+02]\n",
            " ...\n",
            " [1.200e+01 3.430e+00 2.000e+00 ... 9.300e-01 3.050e+00 5.640e+02]\n",
            " [1.208e+01 1.330e+00 2.300e+00 ... 1.070e+00 3.210e+00 6.250e+02]\n",
            " [1.242e+01 2.550e+00 2.270e+00 ... 8.600e-01 3.300e+00 3.150e+02]]\n"
          ],
          "name": "stdout"
        }
      ]
    },
    {
      "cell_type": "markdown",
      "metadata": {
        "id": "DpW9aMyYAj9w",
        "colab_type": "text"
      },
      "source": [
        "Función de densidad Gaussiana \n",
        "$$f(x) = \\frac{1}{\\sigma\\sqrt{2\\pi}}e^{-\\frac{1}{2}\\left(\\frac{x-\\mu}{\\sigma}\\right)^2}$$"
      ]
    },
    {
      "cell_type": "code",
      "metadata": {
        "id": "ORfOvAHvtXfO",
        "colab_type": "code",
        "colab": {}
      },
      "source": [
        "def gaussianDensity(x, mu, sigma): \n",
        "\n",
        "  e = math.exp(-(1/2)*(((x-mu)/sigma)**2))\n",
        "  d = sigma*((2*math.pi)**(0.5))\n",
        "\n",
        "  return e/d"
      ],
      "execution_count": 7,
      "outputs": []
    },
    {
      "cell_type": "markdown",
      "metadata": {
        "id": "3-rrZrQLFFGF",
        "colab_type": "text"
      },
      "source": [
        "Función de verosimilitud\n",
        "\n",
        "$$\\mathbb{P}(Y=C_k | X) = \\frac{\\mathbb{P}(Y=C_k)\\prod_{j}\\mathbb{P}(X_j | Y=C_k)}{\\sum_i \\mathbb{P}(Y=C_i)\\prod_j \\prod_i \\mathbb{P}(X_j | Y=C_i) } $$\n"
      ]
    },
    {
      "cell_type": "code",
      "metadata": {
        "id": "WihtHcv9vAMS",
        "colab_type": "code",
        "colab": {}
      },
      "source": [
        "def likelihood(x, mu, sigma, numElementos):\n",
        "  # x es el vector de caracteristicas\n",
        "  # numElementos es un arreglo tal que numElementos[j] es el numero de patrones de la clase j+1\n",
        "\n",
        "  n = len(x) # numero de caracteristicas\n",
        "  totalLabels = len(numElementos) # numero de clases\n",
        "  m = np.sum(numElementos) # numero total de patrones de entrenamiento\n",
        "\n",
        "  p = np.zeros(totalLabels) # Arreglo que tendra p[k] = P(Y=C_k | X=x)\n",
        "\n",
        "  for k in range(totalLabels):\n",
        "    p[k] = numElementos[k]/m\n",
        "\n",
        "    for j in range(n):\n",
        "      p[k] = p[k]*gaussianDensity(x[j], mu[k][j], sigma[k][j])\n",
        "\n",
        "  denom = np.sum(p)\n",
        "\n",
        "  for k in range(totalLabels):\n",
        "    p[k] = p[k]/denom\n",
        "\n",
        "  return p"
      ],
      "execution_count": 8,
      "outputs": []
    },
    {
      "cell_type": "markdown",
      "metadata": {
        "id": "CUtIU5XjRgLe",
        "colab_type": "text"
      },
      "source": [
        "Función para obtener el máximo\n",
        "$$ \\hat{Y} = argmax_{C_k} P(Y=C_k | X=x)$$"
      ]
    },
    {
      "cell_type": "code",
      "metadata": {
        "id": "SPR39EbERwoe",
        "colab_type": "code",
        "colab": {}
      },
      "source": [
        "def getMax(p):\n",
        "  max = 0\n",
        "  totalLabels = len(p)\n",
        "\n",
        "  for i in range(1, totalLabels):\n",
        "    if p[i]>p[max]:\n",
        "      max = i\n",
        "\n",
        "  return max+1"
      ],
      "execution_count": 9,
      "outputs": []
    },
    {
      "cell_type": "markdown",
      "metadata": {
        "id": "VTMxKs5LShA7",
        "colab_type": "text"
      },
      "source": [
        "### Clase del clasificador Naive Bayes\n",
        "Con métodos fit y predict"
      ]
    },
    {
      "cell_type": "code",
      "metadata": {
        "id": "pt4w339iSvqw",
        "colab_type": "code",
        "colab": {}
      },
      "source": [
        "class NaiveBayes:\n",
        "  def fit(self, X_train, y_train, totalLabels):\n",
        "    X_train = X_train.to_numpy()\n",
        "    y_train = y_train.to_numpy()\n",
        "\n",
        "    self.numElementos = np.zeros(totalLabels)\n",
        "    m = len(y_train) # numero de patrones de entrenamiento\n",
        "    n = X_train.shape[1] # numero de caracteristicas\n",
        "\n",
        "    for i in range(m):\n",
        "      k = int(y_train[i])-1\n",
        "      self.numElementos[k] += 1\n",
        "\n",
        "    self.mu, self.sigma = estadisticos(X_train, y_train, self.numElementos)\n",
        "\n",
        "  def predict(self, X_test):\n",
        "    X_test = X_test.to_numpy()\n",
        "    m = X_test.shape[0]\n",
        "\n",
        "    labels = []\n",
        "\n",
        "    for i in range(m):\n",
        "      p = likelihood(X_test[i], self.mu, self.sigma, self.numElementos)\n",
        "      labels.append(getMax(p))\n",
        "    \n",
        "    return pd.Series(labels)\n"
      ],
      "execution_count": 10,
      "outputs": []
    },
    {
      "cell_type": "markdown",
      "metadata": {
        "id": "iKc4pQKHB76S",
        "colab_type": "text"
      },
      "source": [
        "Función que reporta la matriz de confusión $M$, tal que $M[i][j]$ es la cantidad de patrones de la clase $i$ clasificados como clase $j$. También reporta el *accuracy*."
      ]
    },
    {
      "cell_type": "code",
      "metadata": {
        "id": "tmj1dltFbh-5",
        "colab_type": "code",
        "colab": {}
      },
      "source": [
        "def performance(labels_pred, labels_real, totalLabels):\n",
        "  # Reporta la matriz de confusion y la exactitud\n",
        "  # labels_pred es el etiquetado hecho por el clasificador, labels_real son las etiquetas reales, y totalLabels es el numero total de etiquetas\n",
        "  # Suponemos que las etiquetas son 1, 2, ..., totalLabels\n",
        "\n",
        "  labels_pred = labels_pred.to_numpy()\n",
        "  labels_real = labels_real.to_numpy()\n",
        "\n",
        "  M = np.zeros((totalLabels, totalLabels))\n",
        "  n = len(labels_pred)\n",
        "\n",
        "  for i in range(n):\n",
        "    M[int(labels_real[i])-1][int(labels_pred[i])-1] += 1\n",
        "\n",
        "  acc = 0\n",
        "\n",
        "  for i in range(totalLabels):\n",
        "    acc += M[i][i]\n",
        "\n",
        "  acc = acc/n\n",
        "  M = pd.DataFrame(M, columns= range(1, totalLabels+1), index = range(1, totalLabels+1))\n",
        "\n",
        "  return M, acc"
      ],
      "execution_count": 11,
      "outputs": []
    },
    {
      "cell_type": "markdown",
      "metadata": {
        "id": "Vb3oJTH5DDLi",
        "colab_type": "text"
      },
      "source": [
        "Clasificación del conjunto de entrenamiento. Impresión de las etiquetas predichas, matriz de confunsión y exactitud.\n",
        "\n"
      ]
    },
    {
      "cell_type": "code",
      "metadata": {
        "id": "yy0vdWP1dVJ8",
        "colab_type": "code",
        "colab": {
          "base_uri": "https://localhost:8080/",
          "height": 306
        },
        "outputId": "cb32824b-f5d6-41aa-cacc-6c55d975a01c"
      },
      "source": [
        "classifier = NaiveBayes()\n",
        "classifier.fit(X_train, y_train, totalLabels)\n",
        "labels_train = classifier.predict(X_train)\n",
        "M_train, acc_train = performance(labels_train, y_train, totalLabels)\n",
        "print(labels_train)\n",
        "print(M_train)\n",
        "print(acc_train)"
      ],
      "execution_count": 12,
      "outputs": [
        {
          "output_type": "stream",
          "text": [
            "0      1\n",
            "1      3\n",
            "2      2\n",
            "3      2\n",
            "4      2\n",
            "      ..\n",
            "101    1\n",
            "102    1\n",
            "103    2\n",
            "104    2\n",
            "105    2\n",
            "Length: 106, dtype: int64\n",
            "      1     2     3\n",
            "1  34.0   0.0   0.0\n",
            "2   0.0  42.0   0.0\n",
            "3   0.0   0.0  30.0\n",
            "1.0\n"
          ],
          "name": "stdout"
        }
      ]
    },
    {
      "cell_type": "markdown",
      "metadata": {
        "id": "qNeG9inBdt9X",
        "colab_type": "text"
      },
      "source": [
        "Clasificación del conjunto de prueba. Impresión de las etiquetas predichas, matriz de confunsión y exactitud."
      ]
    },
    {
      "cell_type": "code",
      "metadata": {
        "id": "P2iTauXgdtwV",
        "colab_type": "code",
        "colab": {
          "base_uri": "https://localhost:8080/",
          "height": 306
        },
        "outputId": "2aab1489-75b4-4400-a48b-3d7cc5dcc197"
      },
      "source": [
        "labels_test = classifier.predict(X_test)\n",
        "M_test, acc_test = performance(labels_test, y_test, totalLabels)\n",
        "print(labels_test)\n",
        "print(M_test)\n",
        "print(acc_test)"
      ],
      "execution_count": 13,
      "outputs": [
        {
          "output_type": "stream",
          "text": [
            "0     1\n",
            "1     1\n",
            "2     2\n",
            "3     3\n",
            "4     2\n",
            "     ..\n",
            "67    3\n",
            "68    1\n",
            "69    2\n",
            "70    2\n",
            "71    3\n",
            "Length: 72, dtype: int64\n",
            "      1     2     3\n",
            "1  24.0   1.0   0.0\n",
            "2   0.0  28.0   1.0\n",
            "3   0.0   0.0  18.0\n",
            "0.9722222222222222\n"
          ],
          "name": "stdout"
        }
      ]
    }
  ]
}