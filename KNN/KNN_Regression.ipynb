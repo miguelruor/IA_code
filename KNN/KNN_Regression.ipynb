{
  "nbformat": 4,
  "nbformat_minor": 0,
  "metadata": {
    "colab": {
      "name": "KNN Regression.ipynb",
      "provenance": [],
      "collapsed_sections": []
    },
    "kernelspec": {
      "name": "python3",
      "display_name": "Python 3"
    }
  },
  "cells": [
    {
      "cell_type": "code",
      "metadata": {
        "id": "zmoGsAFYMYZu"
      },
      "source": [
        "import pandas as pd \n",
        "import numpy as np\n",
        "import math\n",
        "import heapq\n",
        "from sklearn.model_selection import train_test_split"
      ],
      "execution_count": 1,
      "outputs": []
    },
    {
      "cell_type": "markdown",
      "metadata": {
        "id": "Mm4orQn5WoHJ"
      },
      "source": [
        "### Extracción de datos: dataset en https://archive.ics.uci.edu/ml/datasets/Concrete+Compressive+Strength"
      ]
    },
    {
      "cell_type": "code",
      "metadata": {
        "id": "Cp62rNpOMnXg",
        "outputId": "684f7edf-e14f-44ed-af5d-8637ded2d111",
        "colab": {
          "base_uri": "https://localhost:8080/"
        }
      },
      "source": [
        "url = \"https://archive.ics.uci.edu/ml/machine-learning-databases/concrete/compressive/Concrete_Data.xls\"\n",
        "X = pd.read_excel(url)\n",
        "y = X.iloc[:,-1] # la variable independiente se encuentra en la ultima columna\n",
        "X.drop(X.columns[-1], axis='columns', inplace=True)\n",
        "X.columns = range(X.shape[1])\n",
        "print(X)\n",
        "print(y)"
      ],
      "execution_count": 2,
      "outputs": [
        {
          "output_type": "stream",
          "text": [
            "          0      1      2      3     4       5      6    7\n",
            "0     540.0    0.0    0.0  162.0   2.5  1040.0  676.0   28\n",
            "1     540.0    0.0    0.0  162.0   2.5  1055.0  676.0   28\n",
            "2     332.5  142.5    0.0  228.0   0.0   932.0  594.0  270\n",
            "3     332.5  142.5    0.0  228.0   0.0   932.0  594.0  365\n",
            "4     198.6  132.4    0.0  192.0   0.0   978.4  825.5  360\n",
            "...     ...    ...    ...    ...   ...     ...    ...  ...\n",
            "1025  276.4  116.0   90.3  179.6   8.9   870.1  768.3   28\n",
            "1026  322.2    0.0  115.6  196.0  10.4   817.9  813.4   28\n",
            "1027  148.5  139.4  108.6  192.7   6.1   892.4  780.0   28\n",
            "1028  159.1  186.7    0.0  175.6  11.3   989.6  788.9   28\n",
            "1029  260.9  100.5   78.3  200.6   8.6   864.5  761.5   28\n",
            "\n",
            "[1030 rows x 8 columns]\n",
            "0       79.986111\n",
            "1       61.887366\n",
            "2       40.269535\n",
            "3       41.052780\n",
            "4       44.296075\n",
            "          ...    \n",
            "1025    44.284354\n",
            "1026    31.178794\n",
            "1027    23.696601\n",
            "1028    32.768036\n",
            "1029    32.401235\n",
            "Name: Concrete compressive strength(MPa, megapascals) , Length: 1030, dtype: float64\n"
          ],
          "name": "stdout"
        }
      ]
    },
    {
      "cell_type": "markdown",
      "metadata": {
        "id": "lI9ZiLUaP06F"
      },
      "source": [
        "Defina la proporción de datos para el conjunto de entrenamiento"
      ]
    },
    {
      "cell_type": "code",
      "metadata": {
        "id": "I6DGPvCsGnMP",
        "outputId": "84ebae4b-0ed7-4111-cfb8-be4cc521061c",
        "colab": {
          "base_uri": "https://localhost:8080/"
        }
      },
      "source": [
        "prop = float(input(\"Proporcion de datos para el conjunto de entrenamiento: p = \")) # proporcion del conjunto de entrenamiento\n",
        "X_train, X_test, y_train, y_test = train_test_split(X, y, train_size=prop) #, random_state=0)"
      ],
      "execution_count": 3,
      "outputs": [
        {
          "output_type": "stream",
          "text": [
            "Proporcion de datos para el conjunto de entrenamiento: p = 0.6\n"
          ],
          "name": "stdout"
        }
      ]
    },
    {
      "cell_type": "markdown",
      "metadata": {
        "id": "J0wrlOKNW08C"
      },
      "source": [
        "### Distancia Minkowski de $x,y$ vectores en $\\mathbb{R}^n$"
      ]
    },
    {
      "cell_type": "code",
      "metadata": {
        "id": "310ZU2DO3Ab1"
      },
      "source": [
        "\n",
        "def MinkowskiDistance(x,y, p=2): # Distancia Minkowski de x,y vectores en R^n\n",
        "  dist = 0\n",
        "  n = len(x)\n",
        "\n",
        "  for i in range(0,n):\n",
        "    dist += abs(x[i]-y[i])**p\n",
        "\n",
        "  dist = dist**(1/p)\n",
        "\n",
        "  return dist\n"
      ],
      "execution_count": 4,
      "outputs": []
    },
    {
      "cell_type": "markdown",
      "metadata": {
        "id": "vvPJwHWPQIM4"
      },
      "source": [
        "### Implementación del KNN para regresión"
      ]
    },
    {
      "cell_type": "code",
      "metadata": {
        "id": "oRV_rcNJ38HR"
      },
      "source": [
        "def prediccion(k_nearest): # Obtener el promedio de las etiquetas en k_nearest\n",
        "  pred = 0\n",
        "  k = len(k_nearest)\n",
        "\n",
        "  for i in range(k):\n",
        "    pred += k_nearest[i][1]\n",
        "\n",
        "  pred = pred/k\n",
        "  \n",
        "  return pred"
      ],
      "execution_count": 5,
      "outputs": []
    },
    {
      "cell_type": "code",
      "metadata": {
        "id": "Ya06r0EO7r3c"
      },
      "source": [
        "def KNN(k, X_train, y_train, X_test):\n",
        "  X_train = X_train.to_numpy()\n",
        "  y_train = y_train.to_numpy()\n",
        "  X_test = X_test.to_numpy()\n",
        "\n",
        "  n = X_test.shape[0]\n",
        "  m = X_train.shape[0] \n",
        "\n",
        "  labeling = []\n",
        "\n",
        "  for i in range(n):\n",
        "    u = X_test[i]\n",
        "    pq = [] \n",
        "    heapq.heapify(pq) # Cola de prioridad para guardar los pares (distancia(u,p_i), y_i), donde p_i es el i-esimo vector prototipo con etiqueta y_i\n",
        "\n",
        "    for j in range(m):\n",
        "      xj = X_train[j]\n",
        "      dist = MinkowskiDistance(u, xj)\n",
        "      heapq.heappush(pq,(dist, y_train[j]))\n",
        "    \n",
        "    k_nearest = list(heapq.nsmallest(k, pq)) # Obtener las k menores distancias\n",
        "    labeling.append(prediccion(k_nearest)) \n",
        "\n",
        "  return pd.DataFrame(labeling)\n"
      ],
      "execution_count": 6,
      "outputs": []
    },
    {
      "cell_type": "markdown",
      "metadata": {
        "id": "S_f-fyZC7KJO"
      },
      "source": [
        "### Función del error cuadrático medio"
      ]
    },
    {
      "cell_type": "code",
      "metadata": {
        "id": "8CAj01ci0FfG"
      },
      "source": [
        "def MSE(pred, real):\n",
        "\n",
        "  pred = pred.to_numpy()\n",
        "  real = real.to_numpy()\n",
        "\n",
        "  n = len(real)\n",
        "\n",
        "  mse = 0\n",
        "\n",
        "  for i in range(n):\n",
        "    mse += (pred[i]-real[i])**2\n",
        "\n",
        "  mse = mse/n\n",
        "\n",
        "  return mse\n"
      ],
      "execution_count": 7,
      "outputs": []
    },
    {
      "cell_type": "markdown",
      "metadata": {
        "id": "rqqM_fQH7cxu"
      },
      "source": [
        "### Regresión de los datos usando KNN"
      ]
    },
    {
      "cell_type": "markdown",
      "metadata": {
        "id": "O0PvUgsUTBHv"
      },
      "source": [
        "Ingresar k"
      ]
    },
    {
      "cell_type": "code",
      "metadata": {
        "id": "WxbluxRLTAbX",
        "outputId": "07e01d14-e5c6-4d0b-cc34-c3c0c0a5c9b5",
        "colab": {
          "base_uri": "https://localhost:8080/"
        }
      },
      "source": [
        "k = int(input(\"k = \"))"
      ],
      "execution_count": 8,
      "outputs": [
        {
          "output_type": "stream",
          "text": [
            "k = 6\n"
          ],
          "name": "stdout"
        }
      ]
    },
    {
      "cell_type": "markdown",
      "metadata": {
        "id": "8OrmVQjP7rsw"
      },
      "source": [
        "Conjunto de entrenamiento"
      ]
    },
    {
      "cell_type": "code",
      "metadata": {
        "id": "kMa8h0Q8Tkc5",
        "outputId": "245ca5e5-2159-4c75-9a42-64c958d451af",
        "colab": {
          "base_uri": "https://localhost:8080/"
        }
      },
      "source": [
        "labels_train = KNN(k, X_train, y_train, X_train)\n",
        "mse_train = MSE(labels_train, y_train)\n",
        "print(\"Predicciones: \")\n",
        "print(labels_train)\n",
        "print(\"Valores reales\")\n",
        "print(y_train)\n",
        "print(\"Error cuadrático medio\")\n",
        "print(mse_train)"
      ],
      "execution_count": 9,
      "outputs": [
        {
          "output_type": "stream",
          "text": [
            "Predicciones: \n",
            "             0\n",
            "0    42.991127\n",
            "1    21.012930\n",
            "2    26.962304\n",
            "3    54.298533\n",
            "4    39.005841\n",
            "..         ...\n",
            "613  35.961919\n",
            "614  30.676396\n",
            "615  46.535033\n",
            "616  48.665514\n",
            "617  13.570726\n",
            "\n",
            "[618 rows x 1 columns]\n",
            "Valores reales\n",
            "537     43.942374\n",
            "440     24.848715\n",
            "48      26.258004\n",
            "98      55.599345\n",
            "1018    37.265488\n",
            "          ...    \n",
            "853     40.058556\n",
            "638     38.210760\n",
            "343     56.743875\n",
            "137     71.298713\n",
            "656     11.414275\n",
            "Name: Concrete compressive strength(MPa, megapascals) , Length: 618, dtype: float64\n",
            "Error cuadrático medio\n",
            "[60.49615201]\n"
          ],
          "name": "stdout"
        }
      ]
    },
    {
      "cell_type": "markdown",
      "metadata": {
        "id": "iwZpCQ9W8PpY"
      },
      "source": [
        "Conjunto de prueba"
      ]
    },
    {
      "cell_type": "code",
      "metadata": {
        "id": "DlYhL7eKi9xw",
        "outputId": "6bb5f062-b6d9-496b-eadb-f2abb35893d7",
        "colab": {
          "base_uri": "https://localhost:8080/"
        }
      },
      "source": [
        "labels_test = KNN(k, X_train, y_train, X_test)\n",
        "mse_test = MSE(labels_test, y_test)\n",
        "print(\"Predicciones: \")\n",
        "print(labels_test)\n",
        "print(\"Valores reales\")\n",
        "print(y_test)\n",
        "print(\"Error cuadrático medio\")\n",
        "print(mse_test)"
      ],
      "execution_count": 10,
      "outputs": [
        {
          "output_type": "stream",
          "text": [
            "Predicciones: \n",
            "             0\n",
            "0    43.848375\n",
            "1    48.665514\n",
            "2    24.569707\n",
            "3    44.482693\n",
            "4    32.266098\n",
            "..         ...\n",
            "407  44.034534\n",
            "408  31.203386\n",
            "409  74.063512\n",
            "410  24.940645\n",
            "411  21.012930\n",
            "\n",
            "[412 rows x 1 columns]\n",
            "Valores reales\n",
            "263    47.739318\n",
            "109    55.895819\n",
            "654    24.290929\n",
            "83     35.301171\n",
            "449    35.852752\n",
            "         ...    \n",
            "525    25.116626\n",
            "435    41.203086\n",
            "177    79.296635\n",
            "266    38.500340\n",
            "199    15.044366\n",
            "Name: Concrete compressive strength(MPa, megapascals) , Length: 412, dtype: float64\n",
            "Error cuadrático medio\n",
            "[88.31675493]\n"
          ],
          "name": "stdout"
        }
      ]
    },
    {
      "cell_type": "markdown",
      "metadata": {
        "id": "6pUPyEaS8S1_"
      },
      "source": [
        "### Comparación con la implemetación del KNN en ScikitLearn"
      ]
    },
    {
      "cell_type": "markdown",
      "metadata": {
        "id": "CAIpLBAw8dKE"
      },
      "source": [
        "Implementación propia para k=1,2,..., 9."
      ]
    },
    {
      "cell_type": "code",
      "metadata": {
        "id": "xTOwgy5b1C08",
        "outputId": "3d10a41d-4caa-42a6-91ea-b4d9ea19c715",
        "colab": {
          "base_uri": "https://localhost:8080/"
        }
      },
      "source": [
        "mse_var = []\n",
        "for k in range(1, 10):\n",
        "  labels_test = KNN(k, X_train, y_train, X_test)\n",
        "  mse_var.append((MSE(labels_test, y_test), k))\n",
        "\n",
        "sorted(mse_var)"
      ],
      "execution_count": 11,
      "outputs": [
        {
          "output_type": "execute_result",
          "data": {
            "text/plain": [
              "[(array([86.25044849]), 3),\n",
              " (array([88.31675493]), 6),\n",
              " (array([88.69923699]), 4),\n",
              " (array([89.07941715]), 2),\n",
              " (array([89.63770761]), 5),\n",
              " (array([92.11292062]), 7),\n",
              " (array([92.51329186]), 8),\n",
              " (array([96.16762841]), 9),\n",
              " (array([108.53844062]), 1)]"
            ]
          },
          "metadata": {
            "tags": []
          },
          "execution_count": 11
        }
      ]
    },
    {
      "cell_type": "markdown",
      "metadata": {
        "id": "n1usunYJ8qSu"
      },
      "source": [
        "Implementación en ScikitLearn para k=1,2,..., 9."
      ]
    },
    {
      "cell_type": "code",
      "metadata": {
        "id": "ApeZFC272r8I",
        "outputId": "54fcfdb9-df70-432d-a67a-ea553cf1edda",
        "colab": {
          "base_uri": "https://localhost:8080/"
        }
      },
      "source": [
        "from sklearn.neighbors import KNeighborsRegressor\n",
        "\n",
        "mse_var = []\n",
        "for k in range(1, 10):\n",
        "  neigh = KNeighborsRegressor(n_neighbors=6)\n",
        "  neigh.fit(X_train, y_train)\n",
        "  labels_test = pd.Series(neigh.predict(X_test))\n",
        "  mse_test = MSE(labels_test, y_test)\n",
        "  mse_var.append((mse_test,k))\n",
        "\n",
        "sorted(mse_var)"
      ],
      "execution_count": 12,
      "outputs": [
        {
          "output_type": "execute_result",
          "data": {
            "text/plain": [
              "[(88.31470460640202, 1),\n",
              " (88.31470460640202, 2),\n",
              " (88.31470460640202, 3),\n",
              " (88.31470460640202, 4),\n",
              " (88.31470460640202, 5),\n",
              " (88.31470460640202, 6),\n",
              " (88.31470460640202, 7),\n",
              " (88.31470460640202, 8),\n",
              " (88.31470460640202, 9)]"
            ]
          },
          "metadata": {
            "tags": []
          },
          "execution_count": 12
        }
      ]
    }
  ]
}