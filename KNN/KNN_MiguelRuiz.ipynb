{
  "nbformat": 4,
  "nbformat_minor": 0,
  "metadata": {
    "colab": {
      "name": "KNN.ipynb",
      "provenance": [],
      "collapsed_sections": []
    },
    "kernelspec": {
      "name": "python3",
      "display_name": "Python 3"
    }
  },
  "cells": [
    {
      "cell_type": "code",
      "metadata": {
        "id": "zmoGsAFYMYZu",
        "colab_type": "code",
        "colab": {}
      },
      "source": [
        "import pandas as pd \n",
        "import numpy as np\n",
        "import math\n",
        "import heapq"
      ],
      "execution_count": 79,
      "outputs": []
    },
    {
      "cell_type": "code",
      "metadata": {
        "id": "310ZU2DO3Ab1",
        "colab_type": "code",
        "colab": {}
      },
      "source": [
        "\n",
        "def MinkowskiDistance(x,y, p=2): # Distancia Minkowski de x,y vectores en R^n\n",
        "  dist = 0\n",
        "  n = len(x)\n",
        "\n",
        "  for i in range(0,n):\n",
        "    dist += abs(x[i]-y[i])**p\n",
        "\n",
        "  dist = dist**(1/p)\n",
        "\n",
        "  return dist\n"
      ],
      "execution_count": 80,
      "outputs": []
    },
    {
      "cell_type": "code",
      "metadata": {
        "id": "Lxz0vagAz6QP",
        "colab_type": "code",
        "colab": {}
      },
      "source": [
        "def frecuencias(arr): # contar las frecuencias de el arreglo con los pares (d(u,x_j), y_j), j=0,1,...,k-1\n",
        "\n",
        "  count_labels = {} # diccionario con las etiquetas como llaves con sus respectivas frecuencias\n",
        "\n",
        "  k = len(arr)\n",
        "      \n",
        "  for j in range(k): # contar frecuencias\n",
        "    if arr[j][1] in count_labels:\n",
        "      count_labels[arr[j][1]] += 1\n",
        "    else:\n",
        "      count_labels[arr[j][1]] = 1\n",
        "\n",
        "  return count_labels "
      ],
      "execution_count": 81,
      "outputs": []
    },
    {
      "cell_type": "code",
      "metadata": {
        "id": "oRV_rcNJ38HR",
        "colab_type": "code",
        "colab": {}
      },
      "source": [
        "def eleccion(freq): # Elejir la etiqueta con mayor frecuencia\n",
        "  # freq es un diccionario cuyos elementos son las frecuencias de la etiqueta que tienen como llave\n",
        "  keys = list(freq.keys())\n",
        "\n",
        "  best = keys[0]\n",
        "\n",
        "  for k in keys: # busqueda de la llave con mas frecuencia\n",
        "    if freq[k] > freq[best]:\n",
        "      best = k\n",
        "  \n",
        "  return best"
      ],
      "execution_count": 82,
      "outputs": []
    },
    {
      "cell_type": "code",
      "metadata": {
        "id": "Ya06r0EO7r3c",
        "colab_type": "code",
        "colab": {}
      },
      "source": [
        "def KNN(k, X_prueba, y_prueba, X_test):\n",
        "  X_prueba = X_prueba.to_numpy()\n",
        "  y_prueba = y_prueba.to_numpy()\n",
        "  X_test = X_test.to_numpy()\n",
        "\n",
        "  n = X_test.shape[0]\n",
        "  m = X_prueba.shape[0] \n",
        "\n",
        "  labeling = []\n",
        "\n",
        "  for i in range(n):\n",
        "    u = X_test[i]\n",
        "    pq = [] \n",
        "    heapq.heapify(pq) # Cola de prioridad para guardar los pares (distancia(x,p_i), y_i), donde p_i es el i-esimo vector prototipo con etiqueta y_i\n",
        "\n",
        "    for j in range(m):\n",
        "      xj = X_prueba[j]\n",
        "      dist = MinkowskiDistance(u, xj)\n",
        "      heapq.heappush(pq,(dist, int(y_prueba[j])))\n",
        "    \n",
        "    k_nearest = list(heapq.nsmallest(k, pq)) # Obtener las k menores distancias\n",
        "    freq = frecuencias(k_nearest)\n",
        "    labeling.append(eleccion(freq)) \n",
        "\n",
        "  return pd.DataFrame(labeling)\n"
      ],
      "execution_count": 83,
      "outputs": []
    },
    {
      "cell_type": "code",
      "metadata": {
        "id": "8CAj01ci0FfG",
        "colab_type": "code",
        "colab": {}
      },
      "source": [
        "def performanceKNN(labels_knn, labels_real, totalLabels):\n",
        "  # Reporta la matriz de confusion y la exactitud\n",
        "  # labels_knn es el etiquetado hecho por KNN, labels_real son las etiquetas reales, y totalLabels es el numero total de etiquetas\n",
        "  # Suponemos que las etiquetas son 1, 2, ..., totalLabels\n",
        "\n",
        "  labels_knn = labels_knn.to_numpy()\n",
        "  labels_real = labels_real.to_numpy()\n",
        "\n",
        "  M = np.zeros((totalLabels, totalLabels))\n",
        "  n = len(labels_knn)\n",
        "\n",
        "  for i in range(n):\n",
        "    M[int(labels_knn[i])-1][int(labels_real[i])-1] += 1\n",
        "\n",
        "  acc = 0\n",
        "\n",
        "  for i in range(totalLabels):\n",
        "    acc += M[i][i]\n",
        "\n",
        "  acc = acc/n\n",
        "  M = pd.DataFrame(M, columns= range(1, totalLabels+1), index = range(1, totalLabels+1))\n",
        "\n",
        "  return M, acc\n"
      ],
      "execution_count": 84,
      "outputs": []
    },
    {
      "cell_type": "code",
      "metadata": {
        "id": "JlgaGyuvMQK3",
        "colab_type": "code",
        "colab": {}
      },
      "source": [
        "def split(X, y, p): # funcion para obtener una proporcion p de X de manera aleatoria como conjunto de entrenamiento\n",
        "  X = X.to_numpy()\n",
        "  y = y.to_numpy()\n",
        "\n",
        "  n = len(y)\n",
        "  d = X.shape[1]\n",
        "  m = math.floor(p*n) # numero de datos en el conjunto de entrenamiento\n",
        "\n",
        "  ind = np.random.choice(n, m, replace=False) # muestra aleatoria de tamaño m sin reemplazo de los numeros 0, 1, ..., n-1. \n",
        "  # Esta muestra representa los indices que pertenecen al conjunto de entrenamiento\n",
        "\n",
        "  X_prueba = np.empty((m, d))\n",
        "  y_prueba = np.empty(m)\n",
        "\n",
        "  X_test = np.empty((n-m, d))\n",
        "  y_test = np.empty(n-m)\n",
        "\n",
        "  next1 = 0\n",
        "  next2 = 0\n",
        "\n",
        "  for i in range(n):\n",
        "    if i in ind:\n",
        "      X_prueba[next1] = X[i]\n",
        "      y_prueba[next1] = y[i]\n",
        "      next1 += 1\n",
        "    else:\n",
        "      X_test[next2] = X[i]\n",
        "      y_test[next2] = y[i]\n",
        "      next2 += 1\n",
        "\n",
        "  return pd.DataFrame(X_prueba), pd.DataFrame(y_prueba), pd.DataFrame(X_test), pd.DataFrame(y_test)\n"
      ],
      "execution_count": 85,
      "outputs": []
    },
    {
      "cell_type": "code",
      "metadata": {
        "id": "Cp62rNpOMnXg",
        "colab_type": "code",
        "colab": {
          "base_uri": "https://localhost:8080/",
          "height": 459
        },
        "outputId": "2313b0d4-86ce-4040-d108-9988bc83bb13"
      },
      "source": [
        "url = \"https://archive.ics.uci.edu/ml/machine-learning-databases/wine/wine.data\"\n",
        "X = pd.read_csv(url, header = None)\n",
        "y = X.iloc[:,0]\n",
        "X.drop(X.columns[0], axis='columns', inplace=True)\n",
        "X.columns = range(X.shape[1])\n",
        "print(X)\n",
        "print(y)"
      ],
      "execution_count": 86,
      "outputs": [
        {
          "output_type": "stream",
          "text": [
            "        0     1     2     3    4     5   ...    7     8      9     10    11    12\n",
            "0    14.23  1.71  2.43  15.6  127  2.80  ...  0.28  2.29   5.64  1.04  3.92  1065\n",
            "1    13.20  1.78  2.14  11.2  100  2.65  ...  0.26  1.28   4.38  1.05  3.40  1050\n",
            "2    13.16  2.36  2.67  18.6  101  2.80  ...  0.30  2.81   5.68  1.03  3.17  1185\n",
            "3    14.37  1.95  2.50  16.8  113  3.85  ...  0.24  2.18   7.80  0.86  3.45  1480\n",
            "4    13.24  2.59  2.87  21.0  118  2.80  ...  0.39  1.82   4.32  1.04  2.93   735\n",
            "..     ...   ...   ...   ...  ...   ...  ...   ...   ...    ...   ...   ...   ...\n",
            "173  13.71  5.65  2.45  20.5   95  1.68  ...  0.52  1.06   7.70  0.64  1.74   740\n",
            "174  13.40  3.91  2.48  23.0  102  1.80  ...  0.43  1.41   7.30  0.70  1.56   750\n",
            "175  13.27  4.28  2.26  20.0  120  1.59  ...  0.43  1.35  10.20  0.59  1.56   835\n",
            "176  13.17  2.59  2.37  20.0  120  1.65  ...  0.53  1.46   9.30  0.60  1.62   840\n",
            "177  14.13  4.10  2.74  24.5   96  2.05  ...  0.56  1.35   9.20  0.61  1.60   560\n",
            "\n",
            "[178 rows x 13 columns]\n",
            "0      1\n",
            "1      1\n",
            "2      1\n",
            "3      1\n",
            "4      1\n",
            "      ..\n",
            "173    3\n",
            "174    3\n",
            "175    3\n",
            "176    3\n",
            "177    3\n",
            "Name: 0, Length: 178, dtype: int64\n"
          ],
          "name": "stdout"
        }
      ]
    },
    {
      "cell_type": "code",
      "metadata": {
        "id": "I6DGPvCsGnMP",
        "colab_type": "code",
        "colab": {}
      },
      "source": [
        "prop = 0.5 # proporcion de datos de entrenamiento\n",
        "k = 5\n",
        "numLabels = 3"
      ],
      "execution_count": 87,
      "outputs": []
    },
    {
      "cell_type": "code",
      "metadata": {
        "id": "felipVGkGjMz",
        "colab_type": "code",
        "colab": {}
      },
      "source": [
        "X_prueba, y_prueba, X_test, y_test = split(X, y, prop)"
      ],
      "execution_count": 88,
      "outputs": []
    },
    {
      "cell_type": "code",
      "metadata": {
        "id": "DlYhL7eKi9xw",
        "colab_type": "code",
        "colab": {
          "base_uri": "https://localhost:8080/",
          "height": 340
        },
        "outputId": "522cfc9b-1545-4a0f-b3ab-11e2ed0ff1a4"
      },
      "source": [
        "labels = KNN(k, X_prueba, y_prueba, X_test)\n",
        "M, acc = performanceKNN(labels, y_test, numLabels)\n",
        "print(labels)\n",
        "print(M)\n",
        "print(acc)\n",
        "# Matriz de confusion y exactitud del KNN para el conjunto de prueba"
      ],
      "execution_count": 89,
      "outputs": [
        {
          "output_type": "stream",
          "text": [
            "    0\n",
            "0   1\n",
            "1   1\n",
            "2   1\n",
            "3   1\n",
            "4   1\n",
            ".. ..\n",
            "84  2\n",
            "85  2\n",
            "86  2\n",
            "87  3\n",
            "88  3\n",
            "\n",
            "[89 rows x 1 columns]\n",
            "      1     2     3\n",
            "1  27.0   2.0   1.0\n",
            "2   0.0  26.0  18.0\n",
            "3   1.0   6.0   8.0\n",
            "0.6853932584269663\n"
          ],
          "name": "stdout"
        }
      ]
    },
    {
      "cell_type": "code",
      "metadata": {
        "id": "x7jjl8ODG2-l",
        "colab_type": "code",
        "colab": {
          "base_uri": "https://localhost:8080/",
          "height": 340
        },
        "outputId": "439d4647-8263-429a-8eb8-924f9abb951b"
      },
      "source": [
        "labels2 = KNN(k, X_prueba, y_prueba, X_prueba)\n",
        "M2, acc2 = performanceKNN(labels2, y_prueba, numLabels)\n",
        "print(labels2)\n",
        "print(M2)\n",
        "print(acc2)\n",
        "# Matriz de confusion y exactitud del KNN para el conjunto de entrenamiento"
      ],
      "execution_count": 90,
      "outputs": [
        {
          "output_type": "stream",
          "text": [
            "    0\n",
            "0   1\n",
            "1   1\n",
            "2   1\n",
            "3   3\n",
            "4   1\n",
            ".. ..\n",
            "84  3\n",
            "85  2\n",
            "86  3\n",
            "87  3\n",
            "88  2\n",
            "\n",
            "[89 rows x 1 columns]\n",
            "      1     2     3\n",
            "1  27.0   1.0   1.0\n",
            "2   1.0  33.0   6.0\n",
            "3   3.0   3.0  14.0\n",
            "0.8314606741573034\n"
          ],
          "name": "stdout"
        }
      ]
    }
  ]
}